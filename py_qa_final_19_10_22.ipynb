{
  "nbformat": 4,
  "nbformat_minor": 0,
  "metadata": {
    "colab": {
      "provenance": []
    },
    "kernelspec": {
      "name": "python3",
      "display_name": "Python 3"
    },
    "language_info": {
      "name": "python"
    }
  },
  "cells": [
    {
      "cell_type": "code",
      "execution_count": null,
      "metadata": {
        "id": "l7DCypxFvkwE"
      },
      "outputs": [],
      "source": [
        "import requests"
      ]
    },
    {
      "cell_type": "code",
      "source": [
        "res = requests.get('https://netology.ru/blog/')\n",
        "res"
      ],
      "metadata": {
        "colab": {
          "base_uri": "https://localhost:8080/"
        },
        "id": "UhcfYwO8yRp2",
        "outputId": "1503cd2f-3a88-400d-e334-29c0b7b95fe4"
      },
      "execution_count": null,
      "outputs": [
        {
          "output_type": "execute_result",
          "data": {
            "text/plain": [
              "<Response [200]>"
            ]
          },
          "metadata": {},
          "execution_count": 4
        }
      ]
    },
    {
      "cell_type": "code",
      "source": [
        "res.text"
      ],
      "metadata": {
        "colab": {
          "base_uri": "https://localhost:8080/",
          "height": 1000
        },
        "id": "zZ_tcb70ynmU",
        "outputId": "bf780280-b346-46da-f4b2-e2cb928fb70e"
      },
      "execution_count": null,
      "outputs": [
        {
          "output_type": "execute_result",
          "data": {
            "text/plain": [
              "'<!DOCTYPE html>\\n<html lang=\"ru-RU\" prefix=\"og: https://ogp.me/ns#\">\\n<head>\\n<meta charset=\"UTF-8\">\\n<meta name=\"viewport\" content=\"width=device-width, initial-scale=1\">\\n<link rel=\"profile\" href=\"https://gmpg.org/xfn/11\">\\n<title>Медиа Нетологии: об образовании в диджитале</title>\\n\\n<meta name=\"description\" content=\"Издание об онлайн-образовании и карьере в ИТ. Пишем о маркетинге, управлении проектами, дизайне, веб-разработке, Data Science и образовании.\" />\\n<meta name=\"robots\" content=\"max-image-preview:large\" />\\n<link rel=\"canonical\" href=\"https://netology.ru/blog/\" />\\n<link rel=\"next\" href=\"https://netology.ru/blog/page/2\" />\\n<meta property=\"og:locale\" content=\"ru_RU\" />\\n<meta property=\"og:site_name\" content=\"Нетология: образовательная платформа\" />\\n<meta property=\"og:type\" content=\"article\" />\\n<meta property=\"og:title\" content=\"Медиа Нетологии об образовании и карьере в диджитале 🎓\" />\\n<meta property=\"og:description\" content=\"Полезное о маркетинге, управлении проектами, дизайне, веб-разработке, Data Science и образовании.\" />\\n<meta property=\"og:url\" content=\"https://netology.ru/blog/\" />\\n<meta property=\"og:image\" content=\"https://netology.ru/blog/wp-content/uploads/2020/01/netology_media.png\" />\\n<meta property=\"og:image:secure_url\" content=\"https://netology.ru/blog/wp-content/uploads/2020/01/netology_media.png\" />\\n<meta property=\"article:published_time\" content=\"2022-10-19T01:19:33+00:00\" />\\n<meta property=\"article:modified_time\" content=\"2022-10-19T11:14:00+00:00\" />\\n<meta name=\"twitter:card\" content=\"summary\" />\\n<meta name=\"twitter:domain\" content=\"netology.ru\" />\\n<meta name=\"twitter:title\" content=\"Медиа Нетологии об образовании и карьере в диджитале 🎓\" />\\n<meta name=\"twitter:description\" content=\"Полезное о маркетинге, управлении проектами, дизайне, веб-разработке, Data Science и образовании.\" />\\n<meta name=\"twitter:image\" content=\"https://netology.ru/blog/wp-content/uploads/2020/01/netology_media.png\" />\\n\\n<link rel=\"preload\" href=\"https://netology.ru/blog/wp-content/plugins/rate-my-post/public/css/fonts/ratemypost.ttf\" type=\"font/ttf\" as=\"font\" crossorigin=\"anonymous\">\\n\\n<script data-cfasync=\"false\" data-pagespeed-no-defer type=\"text/javascript\">//<![CDATA[\\n\\tvar gtm4wp_datalayer_name = \"dataLayer\";\\n\\tvar dataLayer = dataLayer || [];\\n//]]>\\n</script>\\n<link rel=\\'dns-prefetch\\' href=\\'//netology.ru\\' />\\n<link rel=\\'dns-prefetch\\' href=\\'//fonts.googleapis.com\\' />\\n<link rel=\\'dns-prefetch\\' href=\\'//s.w.org\\' />\\n<link rel=\\'dns-prefetch\\' href=\\'//blog-prod-bucket.website.yandexcloud.net\\' />\\n<link rel=\"alternate\" type=\"application/rss+xml\" title=\"Медиа Нетологии &raquo; Лента\" href=\"https://netology.ru/blog/feed\" />\\n<link rel=\"alternate\" type=\"application/rss+xml\" title=\"Медиа Нетологии &raquo; Лента комментариев\" href=\"https://netology.ru/blog/comments/feed\" />\\n<script type=\"text/javascript\">\\n\\t\\t\\twindow._wpemojiSettings = {\"baseUrl\":\"https:\\\\/\\\\/s.w.org\\\\/images\\\\/core\\\\/emoji\\\\/12.0.0-1\\\\/72x72\\\\/\",\"ext\":\".png\",\"svgUrl\":\"https:\\\\/\\\\/s.w.org\\\\/images\\\\/core\\\\/emoji\\\\/12.0.0-1\\\\/svg\\\\/\",\"svgExt\":\".svg\",\"source\":{\"concatemoji\":\"https:\\\\/\\\\/netology.ru\\\\/blog\\\\/wp-includes\\\\/js\\\\/wp-emoji-release.min.js?ver=5.3.14\"}};\\n\\t\\t\\t!function(e,a,t){var n,r,o,i=a.createElement(\"canvas\"),p=i.getContext&&i.getContext(\"2d\");function s(e,t){var a=String.fromCharCode;p.clearRect(0,0,i.width,i.height),p.fillText(a.apply(this,e),0,0);e=i.toDataURL();return p.clearRect(0,0,i.width,i.height),p.fillText(a.apply(this,t),0,0),e===i.toDataURL()}function c(e){var t=a.createElement(\"script\");t.src=e,t.defer=t.type=\"text/javascript\",a.getElementsByTagName(\"head\")[0].appendChild(t)}for(o=Array(\"flag\",\"emoji\"),t.supports={everything:!0,everythingExceptFlag:!0},r=0;r<o.length;r++)t.supports[o[r]]=function(e){if(!p||!p.fillText)return!1;switch(p.textBaseline=\"top\",p.font=\"600 32px Arial\",e){case\"flag\":return s([127987,65039,8205,9895,65039],[127987,65039,8203,9895,65039])?!1:!s([55356,56826,55356,56819],[55356,56826,8203,55356,56819])&&!s([55356,57332,56128,56423,56128,56418,56128,56421,56128,56430,56128,56423,56128,56447],[55356,57332,8203,56128,56423,8203,56128,56418,8203,56128,56421,8203,56128,56430,8203,56128,56423,8203,56128,56447]);case\"emoji\":return!s([55357,56424,55356,57342,8205,55358,56605,8205,55357,56424,55356,57340],[55357,56424,55356,57342,8203,55358,56605,8203,55357,56424,55356,57340])}return!1}(o[r]),t.supports.everything=t.supports.everything&&t.supports[o[r]],\"flag\"!==o[r]&&(t.supports.everythingExceptFlag=t.supports.everythingExceptFlag&&t.supports[o[r]]);t.supports.everythingExceptFlag=t.supports.everythingExceptFlag&&!t.supports.flag,t.DOMReady=!1,t.readyCallback=function(){t.DOMReady=!0},t.supports.everything||(n=function(){t.readyCallback()},a.addEventListener?(a.addEventListener(\"DOMContentLoaded\",n,!1),e.addEventListener(\"load\",n,!1)):(e.attachEvent(\"onload\",n),a.attachEvent(\"onreadystatechange\",function(){\"complete\"===a.readyState&&t.readyCallback()})),(n=t.source||{}).concatemoji?c(n.concatemoji):n.wpemoji&&n.twemoji&&(c(n.twemoji),c(n.wpemoji)))}(window,document,window._wpemojiSettings);\\n\\t\\t</script>\\n<script data-wpfc-render=\"false\" id=\"netol-ready\">\\n\\t\\t\\twindow.advanced_ads_ready=function(e,a){a=a||\"complete\";var d=function(e){return\"interactive\"===a?\"loading\"!==e:\"complete\"===e};d(document.readyState)?e():document.addEventListener(\"readystatechange\",(function(a){d(a.target.readyState)&&e()}),{once:\"interactive\"===a})},window.advanced_ads_ready_queue=window.advanced_ads_ready_queue||[];\\t\\t</script>\\n<style type=\"text/css\">\\nimg.wp-smiley,\\nimg.emoji {\\n\\tdisplay: inline !important;\\n\\tborder: none !important;\\n\\tbox-shadow: none !important;\\n\\theight: 1em !important;\\n\\twidth: 1em !important;\\n\\tmargin: 0 .07em !important;\\n\\tvertical-align: -0.1em !important;\\n\\tbackground: none !important;\\n\\tpadding: 0 !important;\\n}\\n</style>\\n<link rel=\\'stylesheet\\' id=\\'wp-block-library-css\\' href=\\'https://netology.ru/blog/wp-includes/css/dist/block-library/style.min.css?ver=5.3.14\\' type=\\'text/css\\' media=\\'all\\' />\\n<style id=\\'wp-block-library-inline-css\\' type=\\'text/css\\'>\\n.has-text-align-justify{text-align:justify;}\\n</style>\\n<link rel=\\'stylesheet\\' id=\\'rate-my-post-css\\' href=\\'https://netology.ru/blog/wp-content/plugins/rate-my-post/public/css/rate-my-post.css?ver=3.3.4\\' type=\\'text/css\\' media=\\'all\\' />\\n<link rel=\\'stylesheet\\' id=\\'mediaelement-css\\' href=\\'https://netology.ru/blog/wp-includes/js/mediaelement/mediaelementplayer-legacy.min.css?ver=4.2.13-9993131\\' type=\\'text/css\\' media=\\'all\\' />\\n<link rel=\\'stylesheet\\' id=\\'wp-mediaelement-css\\' href=\\'https://netology.ru/blog/wp-includes/js/mediaelement/wp-mediaelement.min.css?ver=5.3.14\\' type=\\'text/css\\' media=\\'all\\' />\\n<link rel=\\'stylesheet\\' id=\\'aquene-style-css\\' href=\\'https://netology.ru/blog/wp-content/themes/aquene-child-theme/style.css?ver=1.8.0\\' type=\\'text/css\\' media=\\'all\\' />\\n<style id=\\'aquene-style-inline-css\\' type=\\'text/css\\'>\\n#page .byline { clip: rect(1px, 1px, 1px, 1px); height: 1px; position: absolute; overflow: hidden; width: 1px; }\\n</style>\\n<link rel=\\'stylesheet\\' id=\\'adaptive-css-css\\' href=\\'https://netology.ru/blog/wp-content/themes/aquene-child-theme/assets/css/adaptive.css?ver=1.1.8\\' type=\\'text/css\\' media=\\'all\\' />\\n<link rel=\\'stylesheet\\' id=\\'font-awesome-css\\' href=\\'https://netology.ru/blog/wp-content/themes/aquene/assets/css/font-awesome.min.css?ver=4.7.0\\' type=\\'text/css\\' media=\\'all\\' />\\n<link rel=\\'stylesheet\\' id=\\'aquene-print-style-css\\' href=\\'https://netology.ru/blog/wp-content/themes/aquene/assets/css/print-style.min.css?ver=1.0.0\\' type=\\'text/css\\' media=\\'print\\' />\\n<link rel=\\'stylesheet\\' id=\\'aquene-google-fonts-css\\' href=\\'https://fonts.googleapis.com/css?family=Lato%3A300%2C300i%2C400%2C400i%2C700%2C700i%7CLato%3A300%2C300i%2C400%2C400i%2C700%2C700i&#038;subset=latin%2Clatin-ext%2Ccyrillic%2Ccyrillic-ext&#038;display=swap\\' type=\\'text/css\\' media=\\'all\\' />\\n<link rel=\\'stylesheet\\' id=\\'jetpack_css-css\\' href=\\'https://netology.ru/blog/wp-content/plugins/jetpack/css/jetpack.css?ver=8.2.4\\' type=\\'text/css\\' media=\\'all\\' />\\n<script type=\\'text/javascript\\' src=\\'https://netology.ru/blog/wp-includes/js/jquery/jquery.js?ver=1.12.4-wp\\'></script>\\n<script type=\\'text/javascript\\' src=\\'https://netology.ru/blog/wp-includes/js/jquery/jquery-migrate.min.js?ver=1.4.1\\'></script>\\n<script type=\\'text/javascript\\' src=\\'https://netology.ru/blog/wp-content/themes/aquene-child-theme/assets/js/adaptive.js?ver=1.4.8\\'></script>\\n<script type=\\'text/javascript\\'>\\n/* <![CDATA[ */\\nvar url_name = {\"ajaxurl\":\"https:\\\\/\\\\/netology.ru\\\\/blog\\\\/wp-admin\\\\/admin-ajax.php\"};\\n/* ]]> */\\n</script>\\n<script type=\\'text/javascript\\' src=\\'https://netology.ru/blog/wp-content/themes/aquene-child-theme/assets/js/loadmore.js?ver=6.6.0\\'></script>\\n<script type=\\'text/javascript\\' src=\\'https://netology.ru/blog/wp-content/plugins/jetpack/_inc/build/spin.min.js?ver=1.3\\'></script>\\n<script type=\\'text/javascript\\' src=\\'https://netology.ru/blog/wp-content/plugins/jetpack/_inc/build/jquery.spin.min.js?ver=1.3\\'></script>\\n<link rel=\\'https://api.w.org/\\' href=\\'https://netology.ru/blog/wp-json/\\' />\\n<link rel=\"EditURI\" type=\"application/rsd+xml\" title=\"RSD\" href=\"\" />\\n<link rel=\"wlwmanifest\" type=\"application/wlwmanifest+xml\" href=\"https://netology.ru/blog/wp-includes/wlwmanifest.xml\" />\\n<meta name=\"generator\" content=\"WordPress 5.3.14\" />\\n\\n\\n\\n<script data-cfasync=\"false\" data-pagespeed-no-defer type=\"text/javascript\">//<![CDATA[\\n\\tvar dataLayer_content = [];\\n\\tdataLayer.push( dataLayer_content );//]]>\\n</script>\\n<script data-cfasync=\"false\">//<![CDATA[\\n(function(w,d,s,l,i){w[l]=w[l]||[];w[l].push({\\'gtm.start\\':\\nnew Date().getTime(),event:\\'gtm.js\\'});var f=d.getElementsByTagName(s)[0],\\nj=d.createElement(s),dl=l!=\\'dataLayer\\'?\\'&l=\\'+l:\\'\\';j.async=true;j.src=\\n\\'//www.googletagmanager.com/gtm.\\'+\\'js?id=\\'+i+dl;f.parentNode.insertBefore(j,f);\\n})(window,document,\\'script\\',\\'dataLayer\\',\\'GTM-TN84HZG\\');//]]>\\n</script>\\n\\n<style type=\\'text/css\\'>img#wpstats{display:none}</style><style type=\"text/css\">.broken_link, a.broken_link {\\r\\n\\ttext-decoration: line-through;\\r\\n}</style><link rel=\"icon\" href=\"https://blog-prod-bucket.website.yandexcloud.net/uploads/2020/05/cropped-android-chrome-512x512-32x32.png\" sizes=\"32x32\" />\\n<link rel=\"icon\" href=\"https://blog-prod-bucket.website.yandexcloud.net/uploads/2020/05/cropped-android-chrome-512x512-192x192.png\" sizes=\"192x192\" />\\n<link rel=\"apple-touch-icon-precomposed\" href=\"https://blog-prod-bucket.website.yandexcloud.net/uploads/2020/05/cropped-android-chrome-512x512-180x180.png\" />\\n<meta name=\"msapplication-TileImage\" content=\"https://blog-prod-bucket.website.yandexcloud.net/uploads/2020/05/cropped-android-chrome-512x512-270x270.png\" />\\n<style type=\"text/css\" id=\"wp-custom-css\">\\n\\t\\t\\t.socials-footer__item--fb {\\n\\tdisplay: none;\\n}\\n\\n.socials-footer__item--insta {\\n\\tdisplay: none;\\n}\\n\\n.socials__link--insta {\\n\\tdisplay: none;\\n}\\n\\t\\t</style>\\n</head>\\n<body>\\n<div class=\"wrap-header\">\\n<header class=\"header\">\\n<h1 class=\"logo\"><a href=\"https://netology.ru/\" class=\"logo__link\" target=\"_blank\">Нетология</a><img src=\"wp-content/themes/aquene-child-theme/img/logo.svg\" alt=\"Нетология Медиа\" class=\"logo__img\"><a href=\"https://netology.ru/\" target=\"_blank\" class=\"logo__media\">Медиа</a><span class=\"logo__slogan\">всё о карьере и профессиях</span></h1>\\n<div class=\"actions\">\\n<a target=\"_blank\" href=\"/blog/terms\" class=\"actions__add\">Прислать статью</a>\\n<div class=\"socials\">\\n<a href=\"https://www.instagram.com/netology_official/?hl=ru\" class=\"socials__link socials__link--insta\" target=\"_blank\"><i class=\"icon-insta\"></i></a>\\n<a href=\"https://t.me/netology_ru\" class=\"socials__link socials__link--tg\" target=\"_blank\"><i class=\"icon-tg\"></i></a>\\n</div>\\n<div class=\"wrap-menu\">\\n<button class=\"menu-btn\" type=\"button\"><span class=\"line\"></span></button>\\n<nav class=\"menu\">\\n<a href=\"/blog/work_together\" target=\"_blank\" class=\"menu__link menu__link--main\">Сотрудничество</a>\\n<a target=\"_blank\" href=\"https://netology.ru/about\" class=\"menu__link\">О Нетологии</a>\\n<a target=\"_blank\" href=\"https://netology.ru/free\" class=\"menu__link\">Учиться бесплатно</a>\\n<a target=\"_blank\" href=\"https://netology.ru/navigation\" class=\"menu__link\">Каталог курсов</a>\\n</nav>\\n</div>\\n</div>\\n</header>\\n</div>\\n<div class=\"wrap-header-bottom\">\\n<div class=\"header-bottom\">\\n\\n\\n<ul id=\"menu-top_categories_menu\" class=\"filters\"><li id=\"menu-item-23481\" class=\"menu-item menu-item-type-taxonomy menu-item-object-category menu-item-23481\"><a href=\"https://netology.ru/blog/category/professions\">Современные профессии</a></li>\\n<li id=\"menu-item-23484\" class=\"menu-item menu-item-type-taxonomy menu-item-object-category menu-item-23484\"><a href=\"https://netology.ru/blog/category/what-is\">Разобраться</a></li>\\n<li id=\"menu-item-23468\" class=\"menu-item menu-item-type-taxonomy menu-item-object-category menu-item-23468\"><a href=\"https://netology.ru/blog/category/how-to\">Руководство</a></li>\\n<li id=\"menu-item-23461\" class=\"menu-item menu-item-type-taxonomy menu-item-object-category menu-item-23461\"><a href=\"https://netology.ru/blog/category/career\">Карьера</a></li>\\n<li id=\"menu-item-23464\" class=\"menu-item menu-item-type-taxonomy menu-item-object-category menu-item-23464\"><a href=\"https://netology.ru/blog/category/productivity\">Продуктивность</a></li>\\n<li id=\"menu-item-23482\" class=\"menu-item menu-item-type-taxonomy menu-item-object-category menu-item-23482\"><a href=\"https://netology.ru/blog/category/experience\">Личный опыт</a></li>\\n<li id=\"menu-item-24335\" class=\"menu-item menu-item-type-taxonomy menu-item-object-category menu-item-24335\"><a href=\"https://netology.ru/blog/category/education\">Научиться учиться</a></li>\\n<li id=\"menu-item-23467\" class=\"menu-item menu-item-type-taxonomy menu-item-object-category menu-item-23467\"><a href=\"https://netology.ru/blog/category/books\">Книжная полка</a></li>\\n<li id=\"menu-item-23483\" class=\"menu-item menu-item-type-taxonomy menu-item-object-category menu-item-23483\"><a href=\"https://netology.ru/blog/category/business\">Предпринимательство</a></li>\\n<li id=\"menu-item-23466\" class=\"menu-item menu-item-type-taxonomy menu-item-object-category menu-item-23466\"><a href=\"https://netology.ru/blog/category/netologiya\">Нетология</a></li>\\n</ul> \\n\\n<p></p>\\n<div class=\"search\">\\n<button class=\"search__button\" type=\"button\"><i class=\"icon-search\"></i></button>\\n<form action=\"/blog/\" method=\"get\" class=\"search__form\">\\n<input type=\"search\" class=\"search__input\" name=\"s\">\\n<button class=\"search__btn\" type=\"submit\"><i class=\"icon-search\"></i></button>\\n</form>\\n</div>\\n</div>\\n</div>\\n<div id=\"content\" class=\"site-content\">\\n<div class=\"wrap\">\\n<div class=\"content main-news\">\\n<div class=\"main-news__item main-news__item--main\">\\n<div class=\"main-news__img\">\\n<a target=\"_blank\" href=\"https://netology.ru/blog/08-2021-vybrat-online-kurs\">\\n<img style=\"width: 100%;\" alt=\"Как выбрать онлайн-курс: форматы, критерии, вопросы менеджеру\" src=\"https://blog-prod-bucket.website.yandexcloud.net/uploads/2021/08/Как-выбрать-онлайн-курс_-форматы-критерии-вопросы-менеджеру-2.png\">\\n</a>\\n<div class=\"tags\">\\n<a href=\"/blog/category/education\" style=\"background:#4bd0a0\" class=\"tags__item\"><span style=\"background:#4bd0a0\">Научиться учиться</span></a>\\n</div>\\n<div class=\"meta\">\\n<div class=\"meta__date\">10 августа 2021</div>\\n<div class=\"meta__views\"><i class=\"icon-views\"></i>29&nbsp;267</div>\\n</div>\\n</div>\\n<div class=\"main-news__content\">\\n<h2 class=\"main-news__title\"><a target=\"_blank\" href=\"https://netology.ru/blog/08-2021-vybrat-online-kurs\" class=\"main-news__link\">Как выбрать онлайн-курс: форматы, критерии, вопросы менеджеру</a></h2>\\n<div class=\"main-news__txt\">\\n<p></p>\\n</div>\\n</div>\\n</div>\\n<div class=\"main-news__item\">\\n<div class=\"main-news__img \">\\n<a target=\"_blank\" href=\"https://netology.ru/blog/08-2021-diploma\">\\n<img src=\"https://blog-prod-bucket.website.yandexcloud.net/uploads/2021/08/Диплом-сертификат-УПК-2.png\" alt=\"Диплом, сертификат, УПК — какие документы выдаются на онлайн-курсах\">\\n</a>\\n</div>\\n<div class=\"tags\">\\n<a href=\"/blog/category/education\" style=\"background:#4bd0a0\" class=\"tags__item\"><span style=\"background:#4bd0a0\">Научиться учиться</span></a>\\n</div>\\n<h2 class=\"main-news__title\"><a target=\"_blank\" href=\"https://netology.ru/blog/08-2021-diploma\" class=\"main-news__link\">Диплом, сертификат, УПК — какие документы выдаются на онлайн-курсах</a></h2>\\n<div class=\"meta\">\\n<div class=\"meta__date\">11 августа 2021</div>\\n<div class=\"meta__views\"><i class=\"icon-views\"></i>33&nbsp;186</div>\\n</div>\\n</div>\\n<div class=\"main-news__item\">\\n<div class=\"main-news__img main-news__img--lines\">\\n<a target=\"_blank\" href=\"https://netology.ru/blog/12-2019-kak-poluchit-nalogovyy-vychet\">\\n<img src=\"https://blog-prod-bucket.website.yandexcloud.net/uploads/2019/12/Как-получить-налоговый-вычет-за-обучение.png\" alt=\"Как получить налоговый вычет за обучение: на что обратить внимание и стоит ли оформлять его через посредников\">\\n</a>\\n</div>\\n<div class=\"tags\">\\n<a href=\"/blog/category/education\" style=\"background:#4bd0a0\" class=\"tags__item\"><span style=\"background:#4bd0a0\">Научиться учиться</span></a>\\n</div>\\n<h2 class=\"main-news__title\"><a target=\"_blank\" href=\"https://netology.ru/blog/12-2019-kak-poluchit-nalogovyy-vychet\" class=\"main-news__link\">Как получить налоговый вычет за обучение: на что обратить внимание и стоит ли оформлять его через посредников</a></h2>\\n<div class=\"meta\">\\n<div class=\"meta__date\">11 декабря 2019</div>\\n<div class=\"meta__views\"><i class=\"icon-views\"></i>173&nbsp;661</div>\\n</div>\\n</div>\\n</div>\\n</div>\\n\\n<div id=\"primary\" class=\"wrap wrap--gray\">\\n<div class=\"content\">\\n<div class=\"news\">\\n<div class=\"news__item\">\\n<h3 class=\"news__title\"><a target=\"_blank\" href=\"https://netology.ru/blog/news/28-09-2022-degree-september-results\" class=\"news__link\">Направление «Высшее образование» Нетологии: начало учебного года, нетворкинг и выступления</a></h3>\\n<div class=\"news__txt\">\\n<p><p>Рассказываем, каким для студентов стал первый месяц обучения и зачем мы создаём для них сообщество, а ещё делимся впечатлениями от мероприятий, планами, свежими материалами и посылаем лучи&#8230;</p>\\n</p>\\n</div>\\n<div class=\"news__meta\">\\n<div class=\"news__date\">28 сентября 2022</div>\\n</div>\\n</div><div class=\"news__item\">\\n<h3 class=\"news__title\"><a target=\"_blank\" href=\"https://netology.ru/blog/news/21-09-2022-diagnostic-ai\" class=\"news__link\">ИИ учат диагностировать психические расстройства по сообщениям</a></h3>\\n<div class=\"news__txt\">\\n<p><p>К середине 2023 года на российском рынке может появиться алгоритм, который будет анализировать текстовые сообщения пользователей и выявлять на их основе психические расстройства. Об этом сообщает ТАСС&#8230;</p>\\n</p>\\n</div>\\n<div class=\"news__meta\">\\n<div class=\"news__date\">21 сентября 2022</div>\\n</div>\\n</div><div class=\"news__item\">\\n<h3 class=\"news__title\"><a target=\"_blank\" href=\"https://netology.ru/blog/news/20-09-2022-vk-steam-analog\" class=\"news__link\">VK планирует создать аналог игровых платформ Steam и Epic Games Store</a></h3>\\n<div class=\"news__txt\">\\n<p><p>VK ведёт переговоры с несколькими геймдев-студиями об эксклюзивном размещении их игр на платформе VK Play в России и СНГ, сообщают Ведомости со ссылкой на источники. Таким образом,&#8230;</p>\\n</p>\\n</div>\\n<div class=\"news__meta\">\\n<div class=\"news__date\">20 сентября 2022</div>\\n</div>\\n</div><div class=\"news__item\">\\n<h3 class=\"news__title\"><a target=\"_blank\" href=\"https://netology.ru/blog/news/16-09-2022-creative-industries\" class=\"news__link\">Опрос: каждый четвёртый россиянин работает в креативных индустриях</a></h3>\\n<div class=\"news__txt\">\\n<p><p>Почти четверть занятого населения России — 23% — работает в креативных индустриях, из них 13% относятся к IT-сфере. К такому выводу пришли исследователи медиахолдинга Rambler&amp;Co по результатам&#8230;</p>\\n</p>\\n</div>\\n<div class=\"news__meta\">\\n<div class=\"news__date\">16 сентября 2022</div>\\n</div>\\n</div>\\n</div>\\n<div id=\"loadmore\">\\n<button type=\"button\" href=\"#\" data-count-news=\"231\" data-paged=\"1\" class=\"btn news-btn\">Больше новостей</button>\\n</div>\\n</div>\\n</div>\\n\\n<div class=\"wrap\">\\n<div class=\"content\">\\n<div class=\"posts\">\\n<div id=\"post-37505\" class=\"posts__item\">\\n<div class=\"posts__img\">\\n<a target=\"_blank\" href=\"https://netology.ru/blog/10-2022-consumer-business-scaling\">\\n<img src=\"https://blog-prod-bucket.website.yandexcloud.net/uploads/2022/10/Обл_гл_тетрадь-с-калькулятором.jpg\" alt=\"Как масштабировать b2c-продукт: опыт известных компаний\">\\n</a>\\n<div class=\"tags\">\\n<a href=\"/blog/category/business\" style=\"background:#5d00f5\" class=\"tags__item\"><span style=\"background:#5d00f5\">Предпринимательство</span></a>\\n</div>\\n</div>\\n<h2 class=\"posts__title\"><a target=\"_blank\" href=\"https://netology.ru/blog/10-2022-consumer-business-scaling\" class=\"posts__link\">Как масштабировать b2c-продукт: опыт известных компаний</a></h2>\\n<div class=\"posts__txt\">\\n\\n</div>\\n<div class=\"posts__meta\">\\n<div class=\"posts__date\">19 октября 2022</div>\\n</div>\\n</div>\\n<div id=\"post-37462\" class=\"posts__item\">\\n<div class=\"posts__img\">\\n<a target=\"_blank\" href=\"https://netology.ru/blog/10-2022-email-marketing-manager\">\\n<img src=\"https://blog-prod-bucket.website.yandexcloud.net/uploads/2022/10/Марки_превью.jpg\" alt=\"Кто такой email-маркетолог, какие задачи решает и как им стать\">\\n</a>\\n<div class=\"tags\">\\n<a href=\"/blog/category/professions\" style=\"background:#4BD0A0\" class=\"tags__item\"><span style=\"background:#4BD0A0\">Современные профессии</span></a>\\n</div>\\n</div>\\n<h2 class=\"posts__title\"><a target=\"_blank\" href=\"https://netology.ru/blog/10-2022-email-marketing-manager\" class=\"posts__link\">Кто такой email-маркетолог, какие задачи решает и как им стать</a></h2>\\n<div class=\"posts__txt\">\\n\\n</div>\\n<div class=\"posts__meta\">\\n<div class=\"posts__date\">17 октября 2022</div>\\n</div>\\n</div>\\n<div id=\"post-37424\" class=\"posts__item\">\\n<div class=\"posts__img\">\\n<a target=\"_blank\" href=\"https://netology.ru/blog/10-2022-books-about-communication\">\\n<img src=\"https://blog-prod-bucket.website.yandexcloud.net/uploads/2022/10/Netology-Cover-books-communication.jpg\" alt=\"7 книг об эффективных коммуникациях: как правильно строить диалог, быть убедительным и управлять конфликтами\">\\n</a>\\n<div class=\"tags\">\\n<a href=\"/blog/category/books\" style=\"background:#0066ff\" class=\"tags__item\"><span style=\"background:#0066ff\">Книжная полка</span></a>\\n</div>\\n</div>\\n<h2 class=\"posts__title\"><a target=\"_blank\" href=\"https://netology.ru/blog/10-2022-books-about-communication\" class=\"posts__link\">7 книг об эффективных коммуникациях: как правильно строить диалог, быть убедительным и управлять конфликтами</a></h2>\\n<div class=\"posts__txt\">\\n\\n</div>\\n<div class=\"posts__meta\">\\n<div class=\"posts__date\">14 октября 2022</div>\\n</div>\\n</div>\\n<div id=\"post-37394\" class=\"posts__item\">\\n<div class=\"posts__img\">\\n<a target=\"_blank\" href=\"https://netology.ru/blog/10-2022-edmarket-who-is-producer-online-kursov\">\\n<img src=\"https://blog-prod-bucket.website.yandexcloud.net/uploads/2022/10/Netology-Cover-Producer.jpg\" alt=\"Продюсер онлайн-курсов: всё о профессии\">\\n</a>\\n<div class=\"tags\">\\n<a href=\"/blog/category/professions\" style=\"background:#4BD0A0\" class=\"tags__item\"><span style=\"background:#4BD0A0\">Современные профессии</span></a>\\n</div>\\n</div>\\n<h2 class=\"posts__title\"><a target=\"_blank\" href=\"https://netology.ru/blog/10-2022-edmarket-who-is-producer-online-kursov\" class=\"posts__link\">Продюсер онлайн-курсов: всё о профессии</a></h2>\\n<div class=\"posts__txt\">\\n\\n</div>\\n<div class=\"posts__meta\">\\n<div class=\"posts__date\">13 октября 2022</div>\\n</div>\\n</div>\\n<div id=\"post-37378\" class=\"posts__item\">\\n<div class=\"posts__img\">\\n<a target=\"_blank\" href=\"https://netology.ru/blog/10-2022-data-science-digest\">\\n<img src=\"https://blog-prod-bucket.website.yandexcloud.net/uploads/2021/10/Data-Science-дайджест-октябрь.jpg\" alt=\"Data Science-дайджест: что почитать, посмотреть и попробовать в октябре 2022\">\\n</a>\\n<div class=\"tags\">\\n<a href=\"/blog/category/books\" style=\"background:#0066ff\" class=\"tags__item\"><span style=\"background:#0066ff\">Книжная полка</span></a>\\n</div>\\n</div>\\n<h2 class=\"posts__title\"><a target=\"_blank\" href=\"https://netology.ru/blog/10-2022-data-science-digest\" class=\"posts__link\">Data Science-дайджест: что почитать, посмотреть и попробовать в октябре 2022</a></h2>\\n<div class=\"posts__txt\">\\n\\n</div>\\n<div class=\"posts__meta\">\\n<div class=\"posts__date\">12 октября 2022</div>\\n</div>\\n</div>\\n<div id=\"post-37358\" class=\"posts__item\">\\n<div class=\"posts__img\">\\n<a target=\"_blank\" href=\"https://netology.ru/blog/10-2022-behavioral-interview\">\\n<img src=\"https://blog-prod-bucket.website.yandexcloud.net/uploads/2022/10/Star_превью_.jpg\" alt=\"Поведенческое интервью: зачем оно зарубежным нанимателям и как к нему подготовиться по методике STAR\">\\n</a>\\n<div class=\"tags\">\\n<a href=\"/blog/category/career\" style=\"background:#0066FF\" class=\"tags__item\"><span style=\"background:#0066FF\">Карьера</span></a>\\n</div>\\n</div>\\n<h2 class=\"posts__title\"><a target=\"_blank\" href=\"https://netology.ru/blog/10-2022-behavioral-interview\" class=\"posts__link\">Поведенческое интервью: зачем оно зарубежным нанимателям и как к нему подготовиться по методике STAR</a></h2>\\n<div class=\"posts__txt\">\\n\\n</div>\\n<div class=\"posts__meta\">\\n<div class=\"posts__date\">11 октября 2022</div>\\n</div>\\n</div></div>\\n<div class=\"post-digest\">\\n<div class=\"post\">\\n<h3 class=\"post__title\"><a target=\"_blank\" href=\"/blog/07-2022-tenchat\" class=\"post__link\">TenChat: как устроена эта российская деловая соцсеть, кому будет полезна и как там продвигаться</a></h3>\\n<div class=\"post__img\">\\n<img src=\"https://blog-prod-bucket.website.yandexcloud.net/uploads/2022/07/tenchat_на-главную_пост.png\" alt=\"TenChat: как устроена эта российская деловая соцсеть, кому будет полезна и как там продвигаться\">\\n</div>\\n</div>\\n<div id=\"subscription-digest\" class=\"digest\">\\n<div class=\"digest__img\"><img src=\"wp-content/themes/aquene-child-theme/img/img-11.png\" alt=\"Дайджест Нетологии\"></div>\\n<div class=\"digest__title\">Дайджест Нетологии</div>\\n<div class=\"digest__txt\">\\n<p>Свежие статьи, видео, лекции и скидки — раз в две недели по четвергам</p>\\n</div>\\n<form action=\"#\" class=\"digest__form\" method=\"POST\">\\n<div class=\"digest__item\">\\n<input name=\"email\" type=\"email\" class=\"digest__input\" placeholder=\"Email\">\\n</div>\\n<div class=\"digest__item\">\\n<button class=\"btn btn--red\" type=\"submit\">Хочу подписку</button>\\n</div>\\n<div class=\"digest__item\">\\n<p>Нажимая на кнопку, вы даёте согласие на обработку своих персональных данных</p>\\n</div>\\n</form>\\n</div>\\n<div id=\"thanks-text-digest\" class=\"digest\" style=\"display:none;\">\\n<div class=\"digest__img\"><img src=\"wp-content/themes/aquene-child-theme/img/img-11.png\" alt=\"\"></div>\\n<div class=\"digest__title\">Спасибо,<br> что с нами!</div>\\n<div class=\"digest__txt\">\\n<p>Спасибо за подписку!</p>\\n</div>\\n<div class=\"letter\">\\n<img src=\"wp-content/themes/aquene-child-theme/img/img-16.png\" alt=\"конверт\" srcset=\"\">\\n</div>\\n</div>\\n</div>\\n<div class=\"posts\">\\n<div id=\"post-37307\" class=\"posts__item\">\\n<div class=\"posts__img\">\\n<a target=\"_blank\" href=\"https://netology.ru/blog/10-2022-how-to-find-first-job\">\\n<img src=\"https://blog-prod-bucket.website.yandexcloud.net/uploads/2022/10/Начинающие-специалисты_превью.jpg\" alt=\"Как начинающему специалисту найти первую работу\">\\n</a>\\n<div class=\"tags\">\\n<a href=\"/blog/category/career\" style=\"background:#0066FF\" class=\"tags__item\"><span style=\"background:#0066FF\">Карьера</span></a>\\n</div>\\n</div>\\n<h2 class=\"posts__title\"><a target=\"_blank\" href=\"https://netology.ru/blog/10-2022-how-to-find-first-job\" class=\"posts__link\">Как начинающему специалисту найти первую работу</a></h2>\\n<div class=\"posts__txt\">\\n\\n</div>\\n<div class=\"posts__meta\">\\n<div class=\"posts__date\">10 октября 2022</div>\\n</div>\\n</div>\\n<div id=\"post-37255\" class=\"posts__item\">\\n<div class=\"posts__img\">\\n<a target=\"_blank\" href=\"https://netology.ru/blog/10-2022-edmarket-who-is-project-manager\">\\n<img src=\"https://blog-prod-bucket.website.yandexcloud.net/uploads/2022/10/Netology-Cover-Project.jpg\" alt=\"Проджект-менеджер онлайн-школы: всё о профессии\">\\n</a>\\n<div class=\"tags\">\\n<a href=\"/blog/category/professions\" style=\"background:#4BD0A0\" class=\"tags__item\"><span style=\"background:#4BD0A0\">Современные профессии</span></a>\\n</div>\\n</div>\\n<h2 class=\"posts__title\"><a target=\"_blank\" href=\"https://netology.ru/blog/10-2022-edmarket-who-is-project-manager\" class=\"posts__link\">Проджект-менеджер онлайн-школы: всё о профессии</a></h2>\\n<div class=\"posts__txt\">\\n\\n</div>\\n<div class=\"posts__meta\">\\n<div class=\"posts__date\">7 октября 2022</div>\\n</div>\\n</div>\\n<div id=\"post-37241\" class=\"posts__item\">\\n<div class=\"posts__img\">\\n<a target=\"_blank\" href=\"https://netology.ru/blog/10-2022-edmarket-kpi-of-e-learning\">\\n<img src=\"https://blog-prod-bucket.website.yandexcloud.net/uploads/2022/10/Netology-Cover-KPI.jpg\" alt=\"Чем измерить эффективность онлайн-курса: ключевые метрики образовательного проекта\">\\n</a>\\n<div class=\"tags\">\\n<a href=\"/blog/category/what-is\" style=\"background:#eb236b\" class=\"tags__item\"><span style=\"background:#eb236b\">Разобраться</span></a>\\n</div>\\n</div>\\n<h2 class=\"posts__title\"><a target=\"_blank\" href=\"https://netology.ru/blog/10-2022-edmarket-kpi-of-e-learning\" class=\"posts__link\">Чем измерить эффективность онлайн-курса: ключевые метрики образовательного проекта</a></h2>\\n<div class=\"posts__txt\">\\n\\n</div>\\n<div class=\"posts__meta\">\\n<div class=\"posts__date\">7 октября 2022</div>\\n</div>\\n</div>\\n<div id=\"post-37213\" class=\"posts__item\">\\n<div class=\"posts__img\">\\n<a target=\"_blank\" href=\"https://netology.ru/blog/10-2022-unpleasant-feedback\">\\n<img src=\"https://blog-prod-bucket.website.yandexcloud.net/uploads/2022/10/Обложка_главная_фидбэк.png\" alt=\"Почему не нужно хвалить коллег во время критики и как правильно давать неприятную обратную связь\">\\n</a>\\n<div class=\"tags\">\\n<a href=\"/blog/category/productivity\" style=\"background:#4bd0a0\" class=\"tags__item\"><span style=\"background:#4bd0a0\">Продуктивность</span></a>\\n</div>\\n</div>\\n<h2 class=\"posts__title\"><a target=\"_blank\" href=\"https://netology.ru/blog/10-2022-unpleasant-feedback\" class=\"posts__link\">Почему не нужно хвалить коллег во время критики и как правильно давать неприятную обратную связь</a></h2>\\n<div class=\"posts__txt\">\\n\\n</div>\\n<div class=\"posts__meta\">\\n<div class=\"posts__date\">5 октября 2022</div>\\n</div>\\n</div>\\n<div id=\"post-37168\" class=\"posts__item\">\\n<div class=\"posts__img\">\\n<a target=\"_blank\" href=\"https://netology.ru/blog/10-2022-edmarket-who-is-curator\">\\n<img src=\"https://blog-prod-bucket.website.yandexcloud.net/uploads/2022/10/Netology-Cover-Curator.jpg\" alt=\"Куратор онлайн-обучения: всё о профессии\">\\n</a>\\n<div class=\"tags\">\\n<a href=\"/blog/category/professions\" style=\"background:#4BD0A0\" class=\"tags__item\"><span style=\"background:#4BD0A0\">Современные профессии</span></a>\\n</div>\\n</div>\\n<h2 class=\"posts__title\"><a target=\"_blank\" href=\"https://netology.ru/blog/10-2022-edmarket-who-is-curator\" class=\"posts__link\">Куратор онлайн-обучения: всё о профессии</a></h2>\\n<div class=\"posts__txt\">\\n\\n</div>\\n<div class=\"posts__meta\">\\n<div class=\"posts__date\">5 октября 2022</div>\\n</div>\\n</div>\\n<div id=\"post-37110\" class=\"posts__item\">\\n<div class=\"posts__img\">\\n<a target=\"_blank\" href=\"https://netology.ru/blog/10-2022-english-for-career\">\\n<img src=\"https://blog-prod-bucket.website.yandexcloud.net/uploads/2022/10/Обложка_главная_english.jpg\" alt=\"«Иностранный язык — это про возможности и перспективы»: digital-специалисты о том, как знание английского влияет на их зарплаты и карьеры\">\\n</a>\\n<div class=\"tags\">\\n<a href=\"/blog/category/career\" style=\"background:#0066FF\" class=\"tags__item\"><span style=\"background:#0066FF\">Карьера</span></a>\\n</div>\\n</div>\\n<h2 class=\"posts__title\"><a target=\"_blank\" href=\"https://netology.ru/blog/10-2022-english-for-career\" class=\"posts__link\">«Иностранный язык — это про возможности и перспективы»: digital-специалисты о том, как знание английского влияет на их зарплаты и карьеры</a></h2>\\n<div class=\"posts__txt\">\\n\\n</div>\\n<div class=\"posts__meta\">\\n<div class=\"posts__date\">4 октября 2022</div>\\n</div>\\n</div>\\n<div id=\"post-37075\" class=\"posts__item\">\\n<div class=\"posts__img\">\\n<a target=\"_blank\" href=\"https://netology.ru/blog/09-2022-it-mentor\">\\n<img src=\"https://blog-prod-bucket.website.yandexcloud.net/uploads/2022/09/Обложка_главная_один.png\" alt=\"Деньги, знания, самооценка: зачем IT-специалисту становиться ментором\">\\n</a>\\n<div class=\"tags\">\\n<a href=\"/blog/category/career\" style=\"background:#0066FF\" class=\"tags__item\"><span style=\"background:#0066FF\">Карьера</span></a>\\n</div>\\n</div>\\n<h2 class=\"posts__title\"><a target=\"_blank\" href=\"https://netology.ru/blog/09-2022-it-mentor\" class=\"posts__link\">Деньги, знания, самооценка: зачем IT-специалисту становиться ментором</a></h2>\\n<div class=\"posts__txt\">\\n\\n</div>\\n<div class=\"posts__meta\">\\n<div class=\"posts__date\">30 сентября 2022</div>\\n</div>\\n</div>\\n<div id=\"post-37007\" class=\"posts__item\">\\n<div class=\"posts__img\">\\n<a target=\"_blank\" href=\"https://netology.ru/blog/09-2022-who-is-metodolog\">\\n<img src=\"https://blog-prod-bucket.website.yandexcloud.net/uploads/2022/09/Netology-Cover-Metodolog.jpg\" alt=\"Методолог онлайн-курсов: всё о профессии\">\\n</a>\\n<div class=\"tags\">\\n<a href=\"/blog/category/professions\" style=\"background:#4BD0A0\" class=\"tags__item\"><span style=\"background:#4BD0A0\">Современные профессии</span></a>\\n</div>\\n</div>\\n<h2 class=\"posts__title\"><a target=\"_blank\" href=\"https://netology.ru/blog/09-2022-who-is-metodolog\" class=\"posts__link\">Методолог онлайн-курсов: всё о профессии</a></h2>\\n<div class=\"posts__txt\">\\n\\n</div>\\n<div class=\"posts__meta\">\\n<div class=\"posts__date\">29 сентября 2022</div>\\n</div>\\n</div>\\n<div id=\"post-36941\" class=\"posts__item\">\\n<div class=\"posts__img\">\\n<a target=\"_blank\" href=\"https://netology.ru/blog/09-2022-mentorship-for-beginners\">\\n<img src=\"https://blog-prod-bucket.website.yandexcloud.net/uploads/2022/09/Обложка_главная_stones.png\" alt=\"Как внедрить систему наставничества и успешно адаптировать новых сотрудников: опыт CRM-group\">\\n</a>\\n<div class=\"tags\">\\n<a href=\"/blog/category/experience\" style=\"background:#eb236b\" class=\"tags__item\"><span style=\"background:#eb236b\">Личный опыт</span></a>\\n</div>\\n</div>\\n<h2 class=\"posts__title\"><a target=\"_blank\" href=\"https://netology.ru/blog/09-2022-mentorship-for-beginners\" class=\"posts__link\">Как внедрить систему наставничества и успешно адаптировать новых сотрудников: опыт CRM-group</a></h2>\\n<div class=\"posts__txt\">\\n\\n</div>\\n<div class=\"posts__meta\">\\n<div class=\"posts__date\">28 сентября 2022</div>\\n</div>\\n</div> </div>\\n<button id=\"loadmore-posts\" data-page=\"1\" data-exclude=\"22658,22672,7189\" class=\"btn posts-btn\" type=\"button\">Ещё статьи</button>\\n</div>\\n</div>\\n</div>\\n<div class=\"wrap-footer\">\\n<footer class=\"footer\">\\n<div class=\"logo-socials\">\\n<div class=\"logo-footer\">\\n<div class=\"logo-footer__net\">Нетология</div>\\n<img src=\"/blog/wp-content/themes/aquene-child-theme/img/logo-footer.svg\" alt=\"Нетология Медиа\" class=\"logo-footer__img\">\\n<span class=\"logo-footer__media\">Медиа</span>\\n</div>\\n<ul class=\"socials-footer\">\\n<li class=\"socials-footer__item socials-footer__item--fb\"><a href=\"https://www.facebook.com/netology.ru\" class=\"socials-footer__link\" target=\"_blank\"><i class=\"icon-fb\"></i></a></li>\\n<li class=\"socials-footer__item socials-footer__item--insta\"><a href=\"https://www.instagram.com/netology_official/?hl=ru\" class=\"socials-footer__link\" target=\"_blank\"><i class=\"icon-insta\"></i></a></li>\\n<li class=\"socials-footer__item socials-footer__item--yt\"><a href=\"https://www.youtube.com/c/netologytv/\" class=\"socials-footer__link\" target=\"_blank\"><i class=\"icon-yt\"></i></a></li>\\n<li class=\"socials-footer__item socials-footer__item--vk\"><a href=\"https://vk.com/netology\" class=\"socials-footer__link\" target=\"_blank\"><i class=\"icon-vk\"></i></a></li>\\n<li class=\"socials-footer__item socials-footer__item--tg\"><a href=\"https://t.me/netology_ru\" class=\"socials-footer__link\" target=\"_blank\"><i class=\"icon-tg\"></i></a></li>\\n</ul>\\n<p class=\"copy\">&copy; Нетология-групп, 2011‐2021</p>\\n</div>\\n<div class=\"menus-footer\">\\n<ul class=\"menu-footer\">\\n<li class=\"menu-footer__item\"><a target=\"_blank\" href=\"/blog/o-proekte\" class=\"menu-footer__link\">О проекте</a></li>\\n<li class=\"menu-footer__item\"><a target=\"_blank\" href=\"/blog/mediakit\" class=\"menu-footer__link\">Медиакит</a></li>\\n<li class=\"menu-footer__item\"><a target=\"_blank\" href=\"/blog/work_together\" class=\"menu-footer__link\">Сотрудничество</a></li>\\n</ul>\\n<ul class=\"menu-footer\">\\n<li class=\"menu-footer__item\"><a target=\"_blank\" href=\"https://netology.ru/about\" class=\"menu-footer__link\">О Нетологии</a></li>\\n<li class=\"menu-footer__item\"><a target=\"_blank\" href=\"https://netology.ru/free\" class=\"menu-footer__link\">Учиться бесплатно</a></li>\\n<li class=\"menu-footer__item\"><a target=\"_blank\" href=\"https://netology.ru/navigation\" class=\"menu-footer__link\">Каталог курсов</a></li>\\n</ul>\\n</div>\\n<form action=\"#\" id=\"subscription\" class=\"sub-form\" method=\"POST\">\\n<div class=\"sub-form__item sub-form__item--line\">\\n<input name=\"email\" type=\"email\" class=\"sub-form__input\" placeholder=\"Email\">\\n<button class=\"btn btn--red\" type=\"submit\">Хочу подписку</button>\\n</div>\\n<div class=\"sub-form__item\">\\n<p>Нажимая на кнопку, вы даёте согласие на обработку своих персональных данных</p>\\n</div>\\n</form>\\n<div id=\"thanks-text\" class=\"sub-form\" style=\"display:none;\">\\n<div class=\"sub-form__item sub-form__item--line\">\\n<span style=\"color:white;font-size:16px;\">Спасибо за подписку!</span>\\n</div>\\n</div>\\n</footer>\\n</div>\\n<div id=\"cookie_show\" class=\"wrap-cookies\">\\n<div class=\"cookies mobile-hidden\">\\n<p>Пользуясь нашим сайтом, вы соглашаетесь с тем, что <a href=\"https://netology.ru/legal/24\">мы используем cookies</a></p>\\n<button id=\"cookie_ok\" type=\"button\">ОК</button>\\n</div>\\n<div class=\"cookies pc-hidden\">\\n<p>Мы используем <a href=\"https://netology.ru/legal/24\">cookies</a></p>\\n<button id=\"cookie_ok_mobile\" type=\"button\"></button>\\n</div>\\n</div>\\n<script type=\"text/javascript\">\\n\\t\\t//<![CDATA[\\n\\t\\tvar infiniteScroll = JSON.parse( decodeURIComponent( \\'%7B%22settings%22%3A%7B%22id%22%3A%22main%22%2C%22ajaxurl%22%3A%22https%3A%5C%2F%5C%2Fnetology.ru%5C%2Fblog%5C%2F%3Finfinity%3Dscrolling%22%2C%22type%22%3A%22click%22%2C%22wrapper%22%3Afalse%2C%22wrapper_class%22%3A%22infinite-wrap%22%2C%22footer%22%3Atrue%2C%22click_handle%22%3A%221%22%2C%22text%22%3A%22%5Cu0411%5Cu043e%5Cu043b%5Cu044c%5Cu0448%5Cu0435%20%5Cu043f%5Cu043e%5Cu043b%5Cu0435%5Cu0437%5Cu043d%5Cu044b%5Cu0445%20%5Cu0441%5Cu0442%5Cu0430%5Cu0442%5Cu0435%5Cu0439%22%2C%22totop%22%3A%22%5Cu041d%5Cu0430%5Cu0432%5Cu0435%5Cu0440%5Cu0445%22%2C%22currentday%22%3A%2228.09.22%22%2C%22order%22%3A%22DESC%22%2C%22scripts%22%3A%5B%5D%2C%22styles%22%3A%5B%5D%2C%22google_analytics%22%3Afalse%2C%22offset%22%3A1%2C%22history%22%3A%7B%22host%22%3A%22netology.ru%5C%2Fblog%22%2C%22path%22%3A%22%5C%2Fpage%5C%2F%25d%22%2C%22use_trailing_slashes%22%3Afalse%2C%22parameters%22%3A%22%22%7D%2C%22query_args%22%3A%7B%22error%22%3A%22%22%2C%22m%22%3A%22%22%2C%22p%22%3A0%2C%22post_parent%22%3A%22%22%2C%22subpost%22%3A%22%22%2C%22subpost_id%22%3A%22%22%2C%22attachment%22%3A%22%22%2C%22attachment_id%22%3A0%2C%22name%22%3A%22%22%2C%22pagename%22%3A%22%22%2C%22page_id%22%3A0%2C%22second%22%3A%22%22%2C%22minute%22%3A%22%22%2C%22hour%22%3A%22%22%2C%22day%22%3A0%2C%22monthnum%22%3A0%2C%22year%22%3A0%2C%22w%22%3A0%2C%22category_name%22%3A%22%22%2C%22tag%22%3A%22%22%2C%22cat%22%3A%22%22%2C%22tag_id%22%3A%22%22%2C%22author%22%3A%22%22%2C%22author_name%22%3A%22%22%2C%22feed%22%3A%22%22%2C%22tb%22%3A%22%22%2C%22paged%22%3A0%2C%22meta_key%22%3A%22%22%2C%22meta_value%22%3A%22%22%2C%22preview%22%3A%22%22%2C%22s%22%3A%22%22%2C%22sentence%22%3A%22%22%2C%22title%22%3A%22%22%2C%22fields%22%3A%22%22%2C%22menu_order%22%3A%22%22%2C%22embed%22%3A%22%22%2C%22category__in%22%3A%5B%5D%2C%22category__not_in%22%3A%5B%5D%2C%22category__and%22%3A%5B%5D%2C%22post__in%22%3A%5B%5D%2C%22post__not_in%22%3A%5B%5D%2C%22post_name__in%22%3A%5B%5D%2C%22tag__in%22%3A%5B%5D%2C%22tag__not_in%22%3A%5B%5D%2C%22tag__and%22%3A%5B%5D%2C%22tag_slug__in%22%3A%5B%5D%2C%22tag_slug__and%22%3A%5B%5D%2C%22post_parent__in%22%3A%5B%5D%2C%22post_parent__not_in%22%3A%5B%5D%2C%22author__in%22%3A%5B%5D%2C%22author__not_in%22%3A%5B%5D%2C%22posts_per_page%22%3A6%2C%22ignore_sticky_posts%22%3Afalse%2C%22suppress_filters%22%3Afalse%2C%22cache_results%22%3Atrue%2C%22update_post_term_cache%22%3Atrue%2C%22lazy_load_term_meta%22%3Atrue%2C%22update_post_meta_cache%22%3Atrue%2C%22post_type%22%3A%22%22%2C%22nopaging%22%3Afalse%2C%22comments_per_page%22%3A%2250%22%2C%22no_found_rows%22%3Afalse%2C%22order%22%3A%22DESC%22%7D%2C%22query_before%22%3A%222022-10-19%2018%3A08%3A22%22%2C%22last_post_date%22%3Afalse%2C%22body_class%22%3A%22infinite-scroll%22%2C%22stats%22%3A%22blog%3D166018295%26host%3Dnetology.ru%26v%3Dext%26j%3D1%3A8.2.4%26x_pagetype%3Dinfinite-click-jetpack%22%7D%7D\\' ) );\\n\\t\\t//]]>\\n\\t\\t</script>\\n\\n<noscript><iframe src=\"https://www.googletagmanager.com/ns.html?id=GTM-TN84HZG\"\\nheight=\"0\" width=\"0\" style=\"display:none;visibility:hidden\"></iframe></noscript>\\n\\n<script type=\"text/javascript\">\\r\\n   (function(m,e,t,r,i,k,a){m[i]=m[i]||function(){(m[i].a=m[i].a||[]).push(arguments)};\\r\\n   m[i].l=1*new Date();k=e.createElement(t),a=e.getElementsByTagName(t)[0],k.async=1,k.src=r,a.parentNode.insertBefore(k,a)})\\r\\n   (window, document, \"script\", \"https://cdn.jsdelivr.net/npm/yandex-metrica-watch/tag.js\", \"ym\");\\r\\n\\r\\n   ym(5240992, \"init\", {\\r\\n        clickmap:true,\\r\\n        trackLinks:true,\\r\\n        accurateTrackBounce:true,\\r\\n        webvisor:true,\\r\\n        ecommerce:\"dataLayer\"\\r\\n   });\\r\\n</script>\\n<noscript><div><img src=\"https://mc.yandex.ru/watch/5240992\" style=\"position:absolute; left:-9999px;\" alt=\"mc pixel\" /></div></noscript>\\n\\n\\n<script async src=\"https://www.googletagmanager.com/gtag/js?id=UA-22225928-1\"></script>\\n<script>\\r\\n  window.dataLayer = window.dataLayer || [];\\r\\n  function gtag(){dataLayer.push(arguments);}\\r\\n  gtag(\\'js\\', new Date());\\r\\n\\r\\n  gtag(\\'config\\', \\'UA-22225928-1\\', {\\r\\n    \\'custom_map\\': {\\r\\n      \\'dimension3\\': \\'client_id\\'\\r\\n    }\\r\\n  });\\r\\n</script>\\n<script type=\\'text/javascript\\' src=\\'https://netology.ru/blog/wp-content/plugins/jetpack/_inc/build/infinite-scroll/infinity.min.js?ver=4.0.0\\'></script>\\n<script type=\\'text/javascript\\'>\\n/* <![CDATA[ */\\nvar rmp_frontend = {\"admin_ajax\":\"https:\\\\/\\\\/netology.ru\\\\/blog\\\\/wp-admin\\\\/admin-ajax.php\",\"postID\":\"37505\",\"noVotes\":\"\",\"cookie\":\"\\\\u0412\\\\u044b \\\\u0443\\\\u0436\\\\u0435 \\\\u0433\\\\u043e\\\\u043b\\\\u043e\\\\u0441\\\\u043e\\\\u0432\\\\u0430\\\\u043b\\\\u0438 :)\",\"afterVote\":\"\",\"notShowRating\":\"1\",\"social\":\"1\",\"feedback\":\"1\",\"cookieDisable\":\"1\",\"emptyFeedback\":\"Please insert your feedback in the box above!\",\"hoverTexts\":\"1\",\"preventAccidental\":\"1\",\"grecaptcha\":\"1\",\"siteKey\":\"\",\"votingPriv\":\"1\",\"loggedIn\":\"\",\"positiveThreshold\":\"2\",\"ajaxLoad\":\"1\",\"nonce\":\"5c5df7b6de\"};\\n/* ]]> */\\n</script>\\n<script type=\\'text/javascript\\' src=\\'https://netology.ru/blog/wp-content/plugins/rate-my-post/public/js/rate-my-post.js?ver=3.3.4\\'></script>\\n<script type=\\'text/javascript\\'>\\nvar mejsL10n = {\"language\":\"ru\",\"strings\":{\"mejs.install-flash\":\"Flash player \\\\u043f\\\\u043b\\\\u0430\\\\u0433\\\\u0438\\\\u043d \\\\u0431\\\\u044b\\\\u043b \\\\u043e\\\\u0442\\\\u043a\\\\u043b\\\\u044e\\\\u0447\\\\u0435\\\\u043d \\\\u0438\\\\u043b\\\\u0438 \\\\u043d\\\\u0435 \\\\u0431\\\\u044b\\\\u043b \\\\u0443\\\\u0441\\\\u0442\\\\u0430\\\\u043d\\\\u043e\\\\u0432\\\\u043b\\\\u0435\\\\u043d \\\\u0432 \\\\u0432\\\\u0430\\\\u0448\\\\u0435\\\\u043c \\\\u0431\\\\u0440\\\\u0430\\\\u0443\\\\u0437\\\\u0435\\\\u0440\\\\u0435. \\\\u041f\\\\u043e\\\\u0436\\\\u0430\\\\u043b\\\\u0443\\\\u0439\\\\u0441\\\\u0442\\\\u0430, \\\\u0432\\\\u043a\\\\u043b\\\\u044e\\\\u0447\\\\u0438\\\\u0442\\\\u0435 \\\\u043f\\\\u043b\\\\u0430\\\\u0433\\\\u0438\\\\u043d Flash player \\\\u0438\\\\u043b\\\\u0438 \\\\u0441\\\\u043a\\\\u0430\\\\u0447\\\\u0430\\\\u0439\\\\u0442\\\\u0435 \\\\u043f\\\\u043e\\\\u0441\\\\u043b\\\\u0435\\\\u0434\\\\u043d\\\\u044e\\\\u044e \\\\u0432\\\\u0435\\\\u0440\\\\u0441\\\\u0438\\\\u044e \\\\u0441 https:\\\\/\\\\/get.adobe.com\\\\/flashplayer\\\\/\",\"mejs.fullscreen-off\":\"\\\\u0412\\\\u044b\\\\u043a\\\\u043b\\\\u044e\\\\u0447\\\\u0438\\\\u0442\\\\u044c \\\\u043f\\\\u043e\\\\u043b\\\\u043d\\\\u044b\\\\u0439 \\\\u044d\\\\u043a\\\\u0440\\\\u0430\\\\u043d\",\"mejs.fullscreen-on\":\"\\\\u041f\\\\u043e\\\\u043b\\\\u043d\\\\u044b\\\\u0439 \\\\u044d\\\\u043a\\\\u0440\\\\u0430\\\\u043d\",\"mejs.download-video\":\"\\\\u0421\\\\u043a\\\\u0430\\\\u0447\\\\u0430\\\\u0442\\\\u044c \\\\u0432\\\\u0438\\\\u0434\\\\u0435\\\\u043e\",\"mejs.fullscreen\":\"\\\\u041d\\\\u0430 \\\\u0432\\\\u0435\\\\u0441\\\\u044c \\\\u044d\\\\u043a\\\\u0440\\\\u0430\\\\u043d\",\"mejs.time-jump-forward\":[\"\\\\u0412\\\\u043f\\\\u0435\\\\u0440\\\\u0451\\\\u0434 \\\\u043d\\\\u0430 1 \\\\u0441\\\\u0435\\\\u043a\\\\u0443\\\\u043d\\\\u0434\\\\u0443\",\"\\\\u0412\\\\u043f\\\\u0435\\\\u0440\\\\u0435\\\\u0434 \\\\u043d\\\\u0430 %1 \\\\u0441\\\\u0435\\\\u043a\\\\u0443\\\\u043d\\\\u0434\"],\"mejs.loop\":\"\\\\u0412\\\\u043a\\\\u043b\\\\u044e\\\\u0447\\\\u0438\\\\u0442\\\\u044c\\\\/\\\\u0432\\\\u044b\\\\u043a\\\\u043b\\\\u044e\\\\u0447\\\\u0438\\\\u0442\\\\u044c \\\\u0437\\\\u0430\\\\u0446\\\\u0438\\\\u043a\\\\u043b\\\\u0438\\\\u0432\\\\u0430\\\\u043d\\\\u0438\\\\u0435\",\"mejs.play\":\"\\\\u0412\\\\u043e\\\\u0441\\\\u043f\\\\u0440\\\\u043e\\\\u0438\\\\u0437\\\\u0432\\\\u0435\\\\u0441\\\\u0442\\\\u0438\",\"mejs.pause\":\"\\\\u041f\\\\u0430\\\\u0443\\\\u0437\\\\u0430\",\"mejs.close\":\"\\\\u0417\\\\u0430\\\\u043a\\\\u0440\\\\u044b\\\\u0442\\\\u044c\",\"mejs.time-slider\":\"\\\\u0428\\\\u043a\\\\u0430\\\\u043b\\\\u0430 \\\\u0432\\\\u0440\\\\u0435\\\\u043c\\\\u0435\\\\u043d\\\\u0438\",\"mejs.time-help-text\":\"\\\\u0418\\\\u0441\\\\u043f\\\\u043e\\\\u043b\\\\u044c\\\\u0437\\\\u0443\\\\u0439\\\\u0442\\\\u0435 \\\\u043a\\\\u043b\\\\u0430\\\\u0432\\\\u0438\\\\u0448\\\\u0438 \\\\u0432\\\\u043b\\\\u0435\\\\u0432\\\\u043e\\\\/\\\\u0432\\\\u043f\\\\u0440\\\\u0430\\\\u0432\\\\u043e, \\\\u0447\\\\u0442\\\\u043e\\\\u0431\\\\u044b \\\\u043f\\\\u0435\\\\u0440\\\\u0435\\\\u043c\\\\u0435\\\\u0441\\\\u0442\\\\u0438\\\\u0442\\\\u044c\\\\u0441\\\\u044f \\\\u043d\\\\u0430 \\\\u043e\\\\u0434\\\\u043d\\\\u0443 \\\\u0441\\\\u0435\\\\u043a\\\\u0443\\\\u043d\\\\u0434\\\\u0443; \\\\u0432\\\\u0432\\\\u0435\\\\u0440\\\\u0445\\\\/\\\\u0432\\\\u043d\\\\u0438\\\\u0437, \\\\u0447\\\\u0442\\\\u043e\\\\u0431\\\\u044b \\\\u043f\\\\u0435\\\\u0440\\\\u0435\\\\u043c\\\\u0435\\\\u0441\\\\u0442\\\\u0438\\\\u0442\\\\u044c\\\\u0441\\\\u044f \\\\u043d\\\\u0430 \\\\u0434\\\\u0435\\\\u0441\\\\u044f\\\\u0442\\\\u044c \\\\u0441\\\\u0435\\\\u043a\\\\u0443\\\\u043d\\\\u0434.\",\"mejs.time-skip-back\":[\"\\\\u041f\\\\u0435\\\\u0440\\\\u0435\\\\u0439\\\\u0442\\\\u0438 \\\\u043d\\\\u0430\\\\u0437\\\\u0430\\\\u0434 \\\\u043d\\\\u0430 1 \\\\u0441\\\\u0435\\\\u043a\\\\u0443\\\\u043d\\\\u0434\\\\u0443\",\"\\\\u041d\\\\u0430\\\\u0437\\\\u0430\\\\u0434 \\\\u043d\\\\u0430 %1 \\\\u0441\\\\u0435\\\\u043a\\\\u0443\\\\u043d\\\\u0434\"],\"mejs.captions-subtitles\":\"\\\\u0421\\\\u0443\\\\u0431\\\\u0442\\\\u0438\\\\u0442\\\\u0440\\\\u044b\",\"mejs.captions-chapters\":\"\\\\u0413\\\\u043b\\\\u0430\\\\u0432\\\\u044b\",\"mejs.none\":\"\\\\u041d\\\\u0435\\\\u0442\",\"mejs.mute-toggle\":\"\\\\u0412\\\\u043a\\\\u043b\\\\u044e\\\\u0447\\\\u0438\\\\u0442\\\\u044c\\\\/\\\\u0432\\\\u044b\\\\u043a\\\\u043b\\\\u044e\\\\u0447\\\\u0438\\\\u0442\\\\u044c \\\\u0437\\\\u0432\\\\u0443\\\\u043a\",\"mejs.volume-help-text\":\"\\\\u0418\\\\u0441\\\\u043f\\\\u043e\\\\u043b\\\\u044c\\\\u0437\\\\u0443\\\\u0439\\\\u0442\\\\u0435 \\\\u043a\\\\u043b\\\\u0430\\\\u0432\\\\u0438\\\\u0448\\\\u0438 \\\\u0432\\\\u0432\\\\u0435\\\\u0440\\\\u0445\\\\/\\\\u0432\\\\u043d\\\\u0438\\\\u0437, \\\\u0447\\\\u0442\\\\u043e\\\\u0431\\\\u044b \\\\u0443\\\\u0432\\\\u0435\\\\u043b\\\\u0438\\\\u0447\\\\u0438\\\\u0442\\\\u044c \\\\u0438\\\\u043b\\\\u0438 \\\\u0443\\\\u043c\\\\u0435\\\\u043d\\\\u044c\\\\u0448\\\\u0438\\\\u0442\\\\u044c \\\\u0433\\\\u0440\\\\u043e\\\\u043c\\\\u043a\\\\u043e\\\\u0441\\\\u0442\\\\u044c.\",\"mejs.unmute\":\"\\\\u0412\\\\u043a\\\\u043b\\\\u044e\\\\u0447\\\\u0438\\\\u0442\\\\u044c \\\\u0437\\\\u0432\\\\u0443\\\\u043a\",\"mejs.mute\":\"\\\\u0411\\\\u0435\\\\u0437 \\\\u0437\\\\u0432\\\\u0443\\\\u043a\\\\u0430\",\"mejs.volume-slider\":\"\\\\u0420\\\\u0435\\\\u0433\\\\u0443\\\\u043b\\\\u044f\\\\u0442\\\\u043e\\\\u0440 \\\\u0433\\\\u0440\\\\u043e\\\\u043c\\\\u043a\\\\u043e\\\\u0441\\\\u0442\\\\u0438\",\"mejs.video-player\":\"\\\\u0412\\\\u0438\\\\u0434\\\\u0435\\\\u043e\\\\u043f\\\\u043b\\\\u0435\\\\u0435\\\\u0440\",\"mejs.audio-player\":\"\\\\u0410\\\\u0443\\\\u0434\\\\u0438\\\\u043e\\\\u043f\\\\u043b\\\\u0435\\\\u0435\\\\u0440\",\"mejs.ad-skip\":\"\\\\u041f\\\\u0440\\\\u043e\\\\u043f\\\\u0443\\\\u0441\\\\u0442\\\\u0438\\\\u0442\\\\u044c \\\\u0440\\\\u0435\\\\u043a\\\\u043b\\\\u0430\\\\u043c\\\\u0443\",\"mejs.ad-skip-info\":[\"\\\\u041f\\\\u0440\\\\u043e\\\\u043f\\\\u0443\\\\u0441\\\\u0442\\\\u0438\\\\u0442\\\\u044c \\\\u0447\\\\u0435\\\\u0440\\\\u0435\\\\u0437 1 \\\\u0441\\\\u0435\\\\u043a\\\\u0443\\\\u043d\\\\u0434\\\\u0443\",\"\\\\u041f\\\\u0440\\\\u043e\\\\u043f\\\\u0443\\\\u0441\\\\u0442\\\\u0438\\\\u0442\\\\u044c \\\\u0447\\\\u0435\\\\u0440\\\\u0435\\\\u0437 %1 \\\\u0441\\\\u0435\\\\u043a\\\\u0443\\\\u043d\\\\u0434\"],\"mejs.source-chooser\":\"\\\\u0412\\\\u044b\\\\u0431\\\\u043e\\\\u0440 \\\\u0438\\\\u0441\\\\u0442\\\\u043e\\\\u0447\\\\u043d\\\\u0438\\\\u043a\\\\u0430\",\"mejs.stop\":\"\\\\u041e\\\\u0441\\\\u0442\\\\u0430\\\\u043d\\\\u043e\\\\u0432\\\\u0438\\\\u0442\\\\u044c\",\"mejs.speed-rate\":\"\\\\u0421\\\\u043a\\\\u043e\\\\u0440\\\\u043e\\\\u0441\\\\u0442\\\\u044c\",\"mejs.live-broadcast\":\"\\\\u041f\\\\u0440\\\\u044f\\\\u043c\\\\u0430\\\\u044f \\\\u0442\\\\u0440\\\\u0430\\\\u043d\\\\u0441\\\\u043b\\\\u044f\\\\u0446\\\\u0438\\\\u044f\",\"mejs.afrikaans\":\"\\\\u0410\\\\u0444\\\\u0440\\\\u0438\\\\u043a\\\\u0430\\\\u043d\\\\u0441\\\\u043a\\\\u0438\\\\u0439\",\"mejs.albanian\":\"\\\\u0410\\\\u043b\\\\u0431\\\\u0430\\\\u043d\\\\u0441\\\\u043a\\\\u0438\\\\u0439\",\"mejs.arabic\":\"\\\\u0410\\\\u0440\\\\u0430\\\\u0431\\\\u0441\\\\u043a\\\\u0438\\\\u0439\",\"mejs.belarusian\":\"\\\\u0411\\\\u0435\\\\u043b\\\\u0430\\\\u0440\\\\u0443\\\\u0441\\\\u0441\\\\u043a\\\\u0438\\\\u0439\",\"mejs.bulgarian\":\"\\\\u0411\\\\u043e\\\\u043b\\\\u0433\\\\u0430\\\\u0440\\\\u0441\\\\u043a\\\\u0438\\\\u0439\",\"mejs.catalan\":\"\\\\u041a\\\\u0430\\\\u0442\\\\u0430\\\\u043b\\\\u043e\\\\u043d\\\\u0441\\\\u043a\\\\u0438\\\\u0439\",\"mejs.chinese\":\"\\\\u041a\\\\u0438\\\\u0442\\\\u0430\\\\u0439\\\\u0441\\\\u043a\\\\u0438\\\\u0439\",\"mejs.chinese-simplified\":\"\\\\u041a\\\\u0438\\\\u0442\\\\u0430\\\\u0439\\\\u0441\\\\u043a\\\\u0438\\\\u0439 (\\\\u0443\\\\u043f\\\\u0440\\\\u043e\\\\u0449\\\\u0435\\\\u043d\\\\u043d\\\\u044b\\\\u0439)\",\"mejs.chinese-traditional\":\"\\\\u041a\\\\u0438\\\\u0442\\\\u0430\\\\u0439\\\\u0441\\\\u043a\\\\u0438\\\\u0439 (\\\\u0442\\\\u0440\\\\u0430\\\\u0434\\\\u0438\\\\u0446\\\\u0438\\\\u043e\\\\u043d\\\\u043d\\\\u044b\\\\u0439)\",\"mejs.croatian\":\"\\\\u0425\\\\u043e\\\\u0440\\\\u0432\\\\u0430\\\\u0442\\\\u0441\\\\u043a\\\\u0438\\\\u0439\",\"mejs.czech\":\"\\\\u0427\\\\u0435\\\\u0448\\\\u0441\\\\u043a\\\\u0438\\\\u0439\",\"mejs.danish\":\"\\\\u0414\\\\u0430\\\\u0442\\\\u0441\\\\u043a\\\\u0438\\\\u0439\",\"mejs.dutch\":\"\\\\u041d\\\\u0438\\\\u0434\\\\u0435\\\\u0440\\\\u043b\\\\u0430\\\\u043d\\\\u0434\\\\u0441\\\\u043a\\\\u0438\\\\u0439 (\\\\u0433\\\\u043e\\\\u043b\\\\u043b\\\\u0430\\\\u043d\\\\u0434\\\\u0441\\\\u043a\\\\u0438\\\\u0439)\",\"mejs.english\":\"\\\\u0410\\\\u043d\\\\u0433\\\\u043b\\\\u0438\\\\u0439\\\\u0441\\\\u043a\\\\u0438\\\\u0439\",\"mejs.estonian\":\"\\\\u042d\\\\u0441\\\\u0442\\\\u043e\\\\u043d\\\\u0441\\\\u043a\\\\u0438\\\\u0439\",\"mejs.filipino\":\"\\\\u0424\\\\u0438\\\\u043b\\\\u0438\\\\u043f\\\\u043f\\\\u0438\\\\u043d\\\\u0441\\\\u043a\\\\u0438\\\\u0439\",\"mejs.finnish\":\"\\\\u0424\\\\u0438\\\\u043d\\\\u0441\\\\u043a\\\\u0438\\\\u0439\",\"mejs.french\":\"\\\\u0424\\\\u0440\\\\u0430\\\\u043d\\\\u0446\\\\u0443\\\\u0437\\\\u0441\\\\u043a\\\\u0438\\\\u0439\",\"mejs.galician\":\"\\\\u0413\\\\u0430\\\\u043b\\\\u0438\\\\u0441\\\\u0438\\\\u0439\\\\u0441\\\\u043a\\\\u0438\\\\u0439\",\"mejs.german\":\"\\\\u041d\\\\u0435\\\\u043c\\\\u0435\\\\u0446\\\\u043a\\\\u0438\\\\u0439\",\"mejs.greek\":\"\\\\u0413\\\\u0440\\\\u0435\\\\u0447\\\\u0435\\\\u0441\\\\u043a\\\\u0438\\\\u0439\",\"mejs.haitian-creole\":\"\\\\u0413\\\\u0430\\\\u0438\\\\u0442\\\\u044f\\\\u043d\\\\u0441\\\\u043a\\\\u0438\\\\u0439 \\\\u043a\\\\u0440\\\\u0435\\\\u043e\\\\u043b\\\\u044c\\\\u0441\\\\u043a\\\\u0438\\\\u0439\",\"mejs.hebrew\":\"\\\\u0418\\\\u0432\\\\u0440\\\\u0438\\\\u0442\",\"mejs.hindi\":\"\\\\u0425\\\\u0438\\\\u043d\\\\u0434\\\\u0438\",\"mejs.hungarian\":\"\\\\u0412\\\\u0435\\\\u043d\\\\u0433\\\\u0435\\\\u0440\\\\u0441\\\\u043a\\\\u0438\\\\u0439\",\"mejs.icelandic\":\"\\\\u0418\\\\u0441\\\\u043b\\\\u0430\\\\u043d\\\\u0434\\\\u0441\\\\u043a\\\\u0438\\\\u0439\",\"mejs.indonesian\":\"\\\\u0418\\\\u043d\\\\u0434\\\\u043e\\\\u043d\\\\u0435\\\\u0437\\\\u0438\\\\u0439\\\\u0441\\\\u043a\\\\u0438\\\\u0439\",\"mejs.irish\":\"\\\\u0418\\\\u0440\\\\u043b\\\\u0430\\\\u043d\\\\u0434\\\\u0441\\\\u043a\\\\u0438\\\\u0439\",\"mejs.italian\":\"\\\\u0418\\\\u0442\\\\u0430\\\\u043b\\\\u044c\\\\u044f\\\\u043d\\\\u0441\\\\u043a\\\\u0438\\\\u0439\",\"mejs.japanese\":\"\\\\u042f\\\\u043f\\\\u043e\\\\u043d\\\\u0441\\\\u043a\\\\u0438\\\\u0439\",\"mejs.korean\":\"\\\\u041a\\\\u043e\\\\u0440\\\\u0435\\\\u0439\\\\u0441\\\\u043a\\\\u0438\\\\u0439\",\"mejs.latvian\":\"\\\\u041b\\\\u0430\\\\u0442\\\\u0432\\\\u0438\\\\u0439\\\\u0441\\\\u043a\\\\u0438\\\\u0439\",\"mejs.lithuanian\":\"\\\\u041b\\\\u0438\\\\u0442\\\\u043e\\\\u0432\\\\u0441\\\\u043a\\\\u0438\\\\u0439\",\"mejs.macedonian\":\"\\\\u041c\\\\u0430\\\\u043a\\\\u0435\\\\u0434\\\\u043e\\\\u043d\\\\u0441\\\\u043a\\\\u0438\\\\u0439\",\"mejs.malay\":\"\\\\u041c\\\\u0430\\\\u043b\\\\u0430\\\\u0439\\\\u0441\\\\u043a\\\\u0438\\\\u0439\",\"mejs.maltese\":\"\\\\u041c\\\\u0430\\\\u043b\\\\u044c\\\\u0442\\\\u0438\\\\u0439\\\\u0441\\\\u043a\\\\u0438\\\\u0439\",\"mejs.norwegian\":\"\\\\u041d\\\\u043e\\\\u0440\\\\u0432\\\\u0435\\\\u0436\\\\u0441\\\\u043a\\\\u0438\\\\u0439\",\"mejs.persian\":\"\\\\u041f\\\\u0435\\\\u0440\\\\u0441\\\\u0438\\\\u0434\\\\u0441\\\\u043a\\\\u0438\\\\u0439\",\"mejs.polish\":\"\\\\u041f\\\\u043e\\\\u043b\\\\u044c\\\\u0441\\\\u043a\\\\u0438\\\\u0439\",\"mejs.portuguese\":\"\\\\u041f\\\\u043e\\\\u0440\\\\u0442\\\\u0443\\\\u0433\\\\u0430\\\\u043b\\\\u044c\\\\u0441\\\\u043a\\\\u0438\\\\u0439\",\"mejs.romanian\":\"\\\\u0420\\\\u0443\\\\u043c\\\\u044b\\\\u043d\\\\u0441\\\\u043a\\\\u0438\\\\u0439\",\"mejs.russian\":\"\\\\u0420\\\\u0443\\\\u0441\\\\u0441\\\\u043a\\\\u0438\\\\u0439\",\"mejs.serbian\":\"\\\\u0421\\\\u0435\\\\u0440\\\\u0431\\\\u0441\\\\u043a\\\\u0438\\\\u0439\",\"mejs.slovak\":\"\\\\u0421\\\\u043b\\\\u043e\\\\u0432\\\\u0430\\\\u0446\\\\u043a\\\\u0438\\\\u0439\",\"mejs.slovenian\":\"\\\\u0421\\\\u043b\\\\u043e\\\\u0432\\\\u0435\\\\u043d\\\\u0441\\\\u043a\\\\u0438\\\\u0439\",\"mejs.spanish\":\"\\\\u0418\\\\u0441\\\\u043f\\\\u0430\\\\u043d\\\\u0441\\\\u043a\\\\u0438\\\\u0439\",\"mejs.swahili\":\"\\\\u0421\\\\u0443\\\\u0430\\\\u0445\\\\u0438\\\\u043b\\\\u0438\",\"mejs.swedish\":\"\\\\u0428\\\\u0432\\\\u0435\\\\u0434\\\\u0441\\\\u043a\\\\u0438\\\\u0439\",\"mejs.tagalog\":\"\\\\u0422\\\\u0430\\\\u0433\\\\u0430\\\\u043b\\\\u043e\\\\u0433\",\"mejs.thai\":\"\\\\u0422\\\\u0430\\\\u0439\\\\u0441\\\\u043a\\\\u0438\\\\u0439\",\"mejs.turkish\":\"\\\\u0422\\\\u0443\\\\u0440\\\\u0435\\\\u0446\\\\u043a\\\\u0438\\\\u0439\",\"mejs.ukrainian\":\"\\\\u0423\\\\u043a\\\\u0440\\\\u0430\\\\u0438\\\\u043d\\\\u0441\\\\u043a\\\\u0438\\\\u0439\",\"mejs.vietnamese\":\"\\\\u0412\\\\u044c\\\\u0435\\\\u0442\\\\u043d\\\\u0430\\\\u043c\\\\u0441\\\\u043a\\\\u0438\\\\u0439\",\"mejs.welsh\":\"\\\\u0412\\\\u0430\\\\u043b\\\\u043b\\\\u0438\\\\u0439\\\\u0441\\\\u043a\\\\u0438\\\\u0439\",\"mejs.yiddish\":\"\\\\u0418\\\\u0434\\\\u0438\\\\u0448\"}};\\n</script>\\n<script type=\\'text/javascript\\' src=\\'https://netology.ru/blog/wp-includes/js/mediaelement/mediaelement-and-player.min.js?ver=4.2.13-9993131\\'></script>\\n<script type=\\'text/javascript\\' src=\\'https://netology.ru/blog/wp-includes/js/mediaelement/mediaelement-migrate.min.js?ver=5.3.14\\'></script>\\n<script type=\\'text/javascript\\'>\\n/* <![CDATA[ */\\nvar _wpmejsSettings = {\"pluginPath\":\"\\\\/blog\\\\/wp-includes\\\\/js\\\\/mediaelement\\\\/\",\"classPrefix\":\"mejs-\",\"stretching\":\"responsive\"};\\n/* ]]> */\\n</script>\\n<script type=\\'text/javascript\\' src=\\'https://netology.ru/blog/wp-includes/js/mediaelement/wp-mediaelement.min.js?ver=5.3.14\\'></script>\\n<script type=\\'text/javascript\\'>\\n/* <![CDATA[ */\\nvar screenReaderText = {\"expand\":\"Expand child menu\",\"collapse\":\"Collapse child menu\"};\\n/* ]]> */\\n</script>\\n<script type=\\'text/javascript\\' src=\\'https://netology.ru/blog/wp-content/themes/aquene-child-theme/assets/js/common.js?ver=1.2.9\\'></script>\\n<script type=\\'text/javascript\\' src=\\'https://netology.ru/blog/wp-includes/js/wp-embed.min.js?ver=5.3.14\\'></script>\\n<script type=\"text/javascript\">\\n\\t\\t\\tjQuery.extend( infiniteScroll.settings.scripts, [\"jquery-core\",\"jquery-migrate\",\"jquery\",\"adaptive-js\",\"loadmore\",\"spin\",\"jquery.spin\",\"the-neverending-homepage\",\"rate-my-post\",\"mediaelement-core\",\"mediaelement-migrate\",\"mediaelement\",\"wp-mediaelement\",\"aquene-script\",\"wp-embed\"] );\\n\\t\\t\\tjQuery.extend( infiniteScroll.settings.styles, [\"the-neverending-homepage\",\"wp-block-library\",\"rate-my-post\",\"mediaelement\",\"wp-mediaelement\",\"aquene-style\",\"adaptive-css\",\"font-awesome\",\"aquene-print-style\",\"aquene-google-fonts\",\"jetpack_css\"] );\\n\\t\\t</script><script data-wpfc-render=\"false\">!function(){window.advanced_ads_ready_queue=window.advanced_ads_ready_queue||[],advanced_ads_ready_queue.push=window.advanced_ads_ready;for(var d=0,a=advanced_ads_ready_queue.length;d<a;d++)advanced_ads_ready(advanced_ads_ready_queue[d])}();</script><script type=\\'text/javascript\\' src=\\'https://stats.wp.com/e-202242.js\\' async=\\'async\\' defer=\\'defer\\'></script>\\n<script type=\\'text/javascript\\'>\\n\\t_stq = window._stq || [];\\n\\t_stq.push([ \\'view\\', {v:\\'ext\\',j:\\'1:8.2.4\\',blog:\\'166018295\\',post:\\'0\\',tz:\\'3\\',srv:\\'netology.ru\\'} ]);\\n\\t_stq.push([ \\'clickTrackerInit\\', \\'166018295\\', \\'0\\' ]);\\n</script>\\n<script type=\"text/javascript\">\\n    //Подписка на рассылку\\n    var form = document.querySelector(\\'#subscription\\');\\n    form.addEventListener(\\'submit\\', function(e){\\n        e.preventDefault();\\n        email = e.target.email.value;\\n        jQuery.ajax({\\n          type: \\'POST\\',\\n          url: \\'https://netology.ru/backend/api/contact_forms\\',\\n          data: {\\n            \"email\": email,\\n            \"phone\": \"\",\\n            \"source\": \"blog\",\\n            \"tags\": [\"pop-up_sub\"]\\n            }\\n        }).done(function(response) {\\n            if(response.contact_form_id) {\\n                var thanks = document.querySelector(\\'#thanks-text\\');\\n                form.style.display = \\'none\\';\\n                thanks.style.display = \\'block\\';\\n            } else {\\n                e.target.email.focus();\\n            }\\n        }).fail(function(response) {\\n            e.target.email.focus();\\n        });\\n    });\\n    var formDigest = document.querySelector(\\'#subscription-digest\\');\\n    formDigest.addEventListener(\\'submit\\', function(e){\\n        e.preventDefault();\\n        email = e.target.email.value;\\n        jQuery.ajax({\\n          type: \\'POST\\',\\n          url: \\'https://netology.ru/backend/api/contact_forms\\',\\n          data: {\\n            \"email\": email,\\n            \"phone\": \"\",\\n            \"source\": \"blog\",\\n            \"tags\": [\"pop-up_sub\"]\\n            }\\n        }).done(function(response) {\\n            if(response.contact_form_id) {\\n                var thanksDigest = document.querySelector(\\'#thanks-text-digest\\');\\n                formDigest.style.display = \\'none\\';\\n                thanksDigest.style.display = \\'block\\';\\n            } else {\\n                e.target.email.focus();\\n            }\\n        }).fail(function(response) {\\n            e.target.email.focus();\\n        });\\n    });\\n\\n\\n    window.addEventListener(\\'load\\', function() {\\n        var currentYear = document.querySelector(\\'.footer-left .current-year\\');\\n        var rightColumns = document.querySelectorAll(\\'.footer-right-column\\');\\n        var searchBtn = document.querySelectorAll(\\'.header-search-button\\');\\n        var searchContainer = document.querySelector(\\'.site-search-container\\');\\n        var mobileMenuBtn = document.querySelectorAll(\\'.mobile-menu-button\\');\\n        var siteContainer = document.querySelector(\\'.site.container\\');\\n        var sideBarMenu = document.querySelector(\\'.toggle-sidebar\\');\\n        var sideBarOverlay = document.querySelector(\\'.sidebar-overlay\\');\\n        var closeSideBarBtn = document.getElementById(\\'close-toggle-sidebar\\');\\n\\n        if (currentYear) {\\n            currentYear.innerHTML = new Date(Date.now()).getFullYear();\\n        }\\n\\n        if (window.innerWidth < 1024) {\\n            if (rightColumns) {\\n                [].forEach.call(rightColumns, function(item) {\\n                   item.addEventListener(\\'click\\', function() {\\n                      item.classList.toggle(\\'active\\');\\n                   });\\n                });\\n            }\\n        }\\n\\n        if (searchBtn) {\\n            [].forEach.call(searchBtn, function(item) {\\n                item.addEventListener(\\'click\\', function() {\\n                   if (searchContainer) {\\n                       searchContainer.classList.add(\\'th-flex\\');\\n                   }\\n                });\\n            });\\n        }\\n\\n        if (mobileMenuBtn) {\\n            [].forEach.call(mobileMenuBtn, function (item) {\\n               item.addEventListener(\\'click\\', function() {\\n                    if (siteContainer) {\\n                        siteContainer.classList.add(\\'to-right\\');\\n                    }\\n\\n                    if (sideBarMenu) {\\n                        sideBarMenu.classList.add(\\'active\\');\\n                    }\\n\\n                    if (sideBarOverlay) {\\n                        sideBarOverlay.classList.add(\\'active\\');\\n                    }\\n\\n                    document.body.classList.add(\\'active-toggle-sidebar\\');\\n               });\\n            });\\n        }\\n\\n        if (sideBarOverlay) {\\n            sideBarOverlay.addEventListener(\\'click\\', function() {\\n                sideBarMenu.classList.remove(\\'active\\');\\n                siteContainer.classList.remove(\\'to-right\\');\\n                document.body.classList.remove(\\'active-toggle-sidebar\\');\\n                sideBarOverlay.classList.remove(\\'active\\');\\n            });\\n        }\\n\\n        if (closeSideBarBtn) {\\n            closeSideBarBtn.addEventListener(\\'click\\', function() {\\n                sideBarMenu.classList.remove(\\'active\\');\\n                siteContainer.classList.remove(\\'to-right\\');\\n                document.body.classList.remove(\\'active-toggle-sidebar\\');\\n                sideBarOverlay.classList.remove(\\'active\\');\\n            });\\n        }\\n    });\\n\\n\\n    ///////////////////////////////////\\n    //Перенес из adaptive.js\\n    var socials = [];\\n    jQuery(\\'.socials\\').each(function () {\\n    socials.push( jQuery(this).clone().html() );\\n    });\\n\\n    jQuery(\\'.wrap-header\\').before(\\'<div class=\"mobile-panel\">\\'\\n      +\\'<a href=\"#navigator\" class=\"mobile-btn\"><span class=\"line\"></span><span class=\"menu-text\">Меню</span></a>\\'\\n      +\\'<div class=\"m-logo\"></div>\\'\\n      +\\'<div class=\"m-search\"><i class=\"icon-search\"></i></div>\\'\\n      +\\'<div id=\"navigator\"><ul></ul></div>\\');\\n\\n    jQuery(\\'.filters\\').clone().prependTo(\\'#navigator>ul\\');\\n    jQuery(\\'.menu>a\\').clone().appendTo(\\'#navigator>ul\\').wrap(\\'<li class=\"menu__item mm-listitem\"></li>\\');\\n    jQuery(\\'.top-line__actions .fav\\').clone().appendTo(\\'#navigator>ul\\').wrap(\\'<li class=\"menu__item mm-listitem\"></li>\\');\\n    jQuery( \".logo\" ).clone().prependTo( \".m-logo\" );\\n\\n    jQuery(\\'div#navigator\\').mmenu({\\n      pageScroll: true,\\n      extensions: [\\n        \\'position-front\\'\\n      ],\\n      classNames: {\\n        selected: \\'active\\'\\n      },\\n      navbar: { add: false },\\n      navbars: [\\n        {\\n            position: \\'bottom\\',\\n            content: \\'\\'+socials+\\'\\'\\n        }\\n          ]\\n    });\\n    jQuery(\\'.actions__add\\').clone().insertBefore(\\'.mm-listview\\');\\n    jQuery(\\'<a href=\"#mm-0\" aria-owns=\"mm-0\" class=\"close-m\">Закрыть</a>\\').prependTo(\\'.mm-panels\\');\\n\\n    jQuery(\".m-search\").click(function() {\\n\\t\\tjQuery(\\'.search\\').slideToggle();\\n\\t\\tjQuery(\\'.m-search\\').toggleClass(\\'active\\');\\n\\t});\\n    ////////Перенес из adaptive.js\\n    ////////////////////////////\\n</script>\\n</body>\\n</html>\\n'"
            ],
            "application/vnd.google.colaboratory.intrinsic+json": {
              "type": "string"
            }
          },
          "metadata": {},
          "execution_count": 5
        }
      ]
    },
    {
      "cell_type": "code",
      "source": [
        "from bs4 import BeautifulSoup"
      ],
      "metadata": {
        "id": "NejFghv1yoGZ"
      },
      "execution_count": null,
      "outputs": []
    },
    {
      "cell_type": "code",
      "source": [
        "soup = BeautifulSoup(res.text)\n",
        "soup"
      ],
      "metadata": {
        "id": "uAFrH9PIzT0S"
      },
      "execution_count": null,
      "outputs": []
    },
    {
      "cell_type": "code",
      "source": [
        "news = soup.find_all('div', 'posts__item')\n",
        "len(news)"
      ],
      "metadata": {
        "colab": {
          "base_uri": "https://localhost:8080/"
        },
        "id": "iQWLvoFrzaLK",
        "outputId": "b6d02903-5f0c-4f66-bf03-3cd32bc38c19"
      },
      "execution_count": null,
      "outputs": [
        {
          "output_type": "execute_result",
          "data": {
            "text/plain": [
              "15"
            ]
          },
          "metadata": {},
          "execution_count": 17
        }
      ]
    },
    {
      "cell_type": "code",
      "source": [
        "import pandas as pd\n",
        "\n",
        "netology_posts = pd.DataFrame()\n",
        "\n",
        "for el in news:\n",
        "    title = el.find('a', 'posts__link').text\n",
        "    # print(title)\n",
        "    link = el.find('a', 'posts__link').get('href')\n",
        "    # print(link)\n",
        "    date = el.find('div', 'posts__date').text\n",
        "    # print(date)\n",
        "    category = el.find('span').text\n",
        "    # print(category)\n",
        "    # print()\n",
        "    row = {'date': date, 'link': link, 'title': title, 'category': category}\n",
        "    netology_posts = pd.concat([netology_posts, pd.DataFrame([row])])\n",
        "\n",
        "netology_posts.reset_index(drop=True)"
      ],
      "metadata": {
        "colab": {
          "base_uri": "https://localhost:8080/",
          "height": 520
        },
        "id": "l1zlPtCwz7hw",
        "outputId": "3d7d543c-5751-4fe9-83d3-0dfec8f4e7ae"
      },
      "execution_count": null,
      "outputs": [
        {
          "output_type": "execute_result",
          "data": {
            "text/plain": [
              "                date                                               link  \\\n",
              "0    19 октября 2022  https://netology.ru/blog/10-2022-consumer-busi...   \n",
              "1    17 октября 2022  https://netology.ru/blog/10-2022-email-marketi...   \n",
              "2    14 октября 2022  https://netology.ru/blog/10-2022-books-about-c...   \n",
              "3    13 октября 2022  https://netology.ru/blog/10-2022-edmarket-who-...   \n",
              "4    12 октября 2022  https://netology.ru/blog/10-2022-data-science-...   \n",
              "5    11 октября 2022  https://netology.ru/blog/10-2022-behavioral-in...   \n",
              "6    10 октября 2022  https://netology.ru/blog/10-2022-how-to-find-f...   \n",
              "7     7 октября 2022  https://netology.ru/blog/10-2022-edmarket-who-...   \n",
              "8     7 октября 2022  https://netology.ru/blog/10-2022-edmarket-kpi-...   \n",
              "9     5 октября 2022  https://netology.ru/blog/10-2022-unpleasant-fe...   \n",
              "10    5 октября 2022  https://netology.ru/blog/10-2022-edmarket-who-...   \n",
              "11    4 октября 2022  https://netology.ru/blog/10-2022-english-for-c...   \n",
              "12  30 сентября 2022         https://netology.ru/blog/09-2022-it-mentor   \n",
              "13  29 сентября 2022  https://netology.ru/blog/09-2022-who-is-metodolog   \n",
              "14  28 сентября 2022  https://netology.ru/blog/09-2022-mentorship-fo...   \n",
              "\n",
              "                                                title               category  \n",
              "0   Как масштабировать b2c-продукт: опыт известных...    Предпринимательство  \n",
              "1   Кто такой email-маркетолог, какие задачи решае...  Современные профессии  \n",
              "2   7 книг об эффективных коммуникациях: как прави...          Книжная полка  \n",
              "3             Продюсер онлайн-курсов: всё о профессии  Современные профессии  \n",
              "4   Data Science-дайджест: что почитать, посмотрет...          Книжная полка  \n",
              "5   Поведенческое интервью: зачем оно зарубежным н...                Карьера  \n",
              "6     Как начинающему специалисту найти первую работу                Карьера  \n",
              "7     Проджект-менеджер онлайн-школы: всё о профессии  Современные профессии  \n",
              "8   Чем измерить эффективность онлайн-курса: ключе...            Разобраться  \n",
              "9   Почему не нужно хвалить коллег во время критик...         Продуктивность  \n",
              "10           Куратор онлайн-обучения: всё о профессии  Современные профессии  \n",
              "11  «Иностранный язык — это про возможности и перс...                Карьера  \n",
              "12  Деньги, знания, самооценка: зачем IT-специалис...                Карьера  \n",
              "13           Методолог онлайн-курсов: всё о профессии  Современные профессии  \n",
              "14  Как внедрить систему наставничества и успешно ...            Личный опыт  "
            ],
            "text/html": [
              "\n",
              "  <div id=\"df-1775c365-6deb-4006-a218-8951482ead96\">\n",
              "    <div class=\"colab-df-container\">\n",
              "      <div>\n",
              "<style scoped>\n",
              "    .dataframe tbody tr th:only-of-type {\n",
              "        vertical-align: middle;\n",
              "    }\n",
              "\n",
              "    .dataframe tbody tr th {\n",
              "        vertical-align: top;\n",
              "    }\n",
              "\n",
              "    .dataframe thead th {\n",
              "        text-align: right;\n",
              "    }\n",
              "</style>\n",
              "<table border=\"1\" class=\"dataframe\">\n",
              "  <thead>\n",
              "    <tr style=\"text-align: right;\">\n",
              "      <th></th>\n",
              "      <th>date</th>\n",
              "      <th>link</th>\n",
              "      <th>title</th>\n",
              "      <th>category</th>\n",
              "    </tr>\n",
              "  </thead>\n",
              "  <tbody>\n",
              "    <tr>\n",
              "      <th>0</th>\n",
              "      <td>19 октября 2022</td>\n",
              "      <td>https://netology.ru/blog/10-2022-consumer-busi...</td>\n",
              "      <td>Как масштабировать b2c-продукт: опыт известных...</td>\n",
              "      <td>Предпринимательство</td>\n",
              "    </tr>\n",
              "    <tr>\n",
              "      <th>1</th>\n",
              "      <td>17 октября 2022</td>\n",
              "      <td>https://netology.ru/blog/10-2022-email-marketi...</td>\n",
              "      <td>Кто такой email-маркетолог, какие задачи решае...</td>\n",
              "      <td>Современные профессии</td>\n",
              "    </tr>\n",
              "    <tr>\n",
              "      <th>2</th>\n",
              "      <td>14 октября 2022</td>\n",
              "      <td>https://netology.ru/blog/10-2022-books-about-c...</td>\n",
              "      <td>7 книг об эффективных коммуникациях: как прави...</td>\n",
              "      <td>Книжная полка</td>\n",
              "    </tr>\n",
              "    <tr>\n",
              "      <th>3</th>\n",
              "      <td>13 октября 2022</td>\n",
              "      <td>https://netology.ru/blog/10-2022-edmarket-who-...</td>\n",
              "      <td>Продюсер онлайн-курсов: всё о профессии</td>\n",
              "      <td>Современные профессии</td>\n",
              "    </tr>\n",
              "    <tr>\n",
              "      <th>4</th>\n",
              "      <td>12 октября 2022</td>\n",
              "      <td>https://netology.ru/blog/10-2022-data-science-...</td>\n",
              "      <td>Data Science-дайджест: что почитать, посмотрет...</td>\n",
              "      <td>Книжная полка</td>\n",
              "    </tr>\n",
              "    <tr>\n",
              "      <th>5</th>\n",
              "      <td>11 октября 2022</td>\n",
              "      <td>https://netology.ru/blog/10-2022-behavioral-in...</td>\n",
              "      <td>Поведенческое интервью: зачем оно зарубежным н...</td>\n",
              "      <td>Карьера</td>\n",
              "    </tr>\n",
              "    <tr>\n",
              "      <th>6</th>\n",
              "      <td>10 октября 2022</td>\n",
              "      <td>https://netology.ru/blog/10-2022-how-to-find-f...</td>\n",
              "      <td>Как начинающему специалисту найти первую работу</td>\n",
              "      <td>Карьера</td>\n",
              "    </tr>\n",
              "    <tr>\n",
              "      <th>7</th>\n",
              "      <td>7 октября 2022</td>\n",
              "      <td>https://netology.ru/blog/10-2022-edmarket-who-...</td>\n",
              "      <td>Проджект-менеджер онлайн-школы: всё о профессии</td>\n",
              "      <td>Современные профессии</td>\n",
              "    </tr>\n",
              "    <tr>\n",
              "      <th>8</th>\n",
              "      <td>7 октября 2022</td>\n",
              "      <td>https://netology.ru/blog/10-2022-edmarket-kpi-...</td>\n",
              "      <td>Чем измерить эффективность онлайн-курса: ключе...</td>\n",
              "      <td>Разобраться</td>\n",
              "    </tr>\n",
              "    <tr>\n",
              "      <th>9</th>\n",
              "      <td>5 октября 2022</td>\n",
              "      <td>https://netology.ru/blog/10-2022-unpleasant-fe...</td>\n",
              "      <td>Почему не нужно хвалить коллег во время критик...</td>\n",
              "      <td>Продуктивность</td>\n",
              "    </tr>\n",
              "    <tr>\n",
              "      <th>10</th>\n",
              "      <td>5 октября 2022</td>\n",
              "      <td>https://netology.ru/blog/10-2022-edmarket-who-...</td>\n",
              "      <td>Куратор онлайн-обучения: всё о профессии</td>\n",
              "      <td>Современные профессии</td>\n",
              "    </tr>\n",
              "    <tr>\n",
              "      <th>11</th>\n",
              "      <td>4 октября 2022</td>\n",
              "      <td>https://netology.ru/blog/10-2022-english-for-c...</td>\n",
              "      <td>«Иностранный язык — это про возможности и перс...</td>\n",
              "      <td>Карьера</td>\n",
              "    </tr>\n",
              "    <tr>\n",
              "      <th>12</th>\n",
              "      <td>30 сентября 2022</td>\n",
              "      <td>https://netology.ru/blog/09-2022-it-mentor</td>\n",
              "      <td>Деньги, знания, самооценка: зачем IT-специалис...</td>\n",
              "      <td>Карьера</td>\n",
              "    </tr>\n",
              "    <tr>\n",
              "      <th>13</th>\n",
              "      <td>29 сентября 2022</td>\n",
              "      <td>https://netology.ru/blog/09-2022-who-is-metodolog</td>\n",
              "      <td>Методолог онлайн-курсов: всё о профессии</td>\n",
              "      <td>Современные профессии</td>\n",
              "    </tr>\n",
              "    <tr>\n",
              "      <th>14</th>\n",
              "      <td>28 сентября 2022</td>\n",
              "      <td>https://netology.ru/blog/09-2022-mentorship-fo...</td>\n",
              "      <td>Как внедрить систему наставничества и успешно ...</td>\n",
              "      <td>Личный опыт</td>\n",
              "    </tr>\n",
              "  </tbody>\n",
              "</table>\n",
              "</div>\n",
              "      <button class=\"colab-df-convert\" onclick=\"convertToInteractive('df-1775c365-6deb-4006-a218-8951482ead96')\"\n",
              "              title=\"Convert this dataframe to an interactive table.\"\n",
              "              style=\"display:none;\">\n",
              "        \n",
              "  <svg xmlns=\"http://www.w3.org/2000/svg\" height=\"24px\"viewBox=\"0 0 24 24\"\n",
              "       width=\"24px\">\n",
              "    <path d=\"M0 0h24v24H0V0z\" fill=\"none\"/>\n",
              "    <path d=\"M18.56 5.44l.94 2.06.94-2.06 2.06-.94-2.06-.94-.94-2.06-.94 2.06-2.06.94zm-11 1L8.5 8.5l.94-2.06 2.06-.94-2.06-.94L8.5 2.5l-.94 2.06-2.06.94zm10 10l.94 2.06.94-2.06 2.06-.94-2.06-.94-.94-2.06-.94 2.06-2.06.94z\"/><path d=\"M17.41 7.96l-1.37-1.37c-.4-.4-.92-.59-1.43-.59-.52 0-1.04.2-1.43.59L10.3 9.45l-7.72 7.72c-.78.78-.78 2.05 0 2.83L4 21.41c.39.39.9.59 1.41.59.51 0 1.02-.2 1.41-.59l7.78-7.78 2.81-2.81c.8-.78.8-2.07 0-2.86zM5.41 20L4 18.59l7.72-7.72 1.47 1.35L5.41 20z\"/>\n",
              "  </svg>\n",
              "      </button>\n",
              "      \n",
              "  <style>\n",
              "    .colab-df-container {\n",
              "      display:flex;\n",
              "      flex-wrap:wrap;\n",
              "      gap: 12px;\n",
              "    }\n",
              "\n",
              "    .colab-df-convert {\n",
              "      background-color: #E8F0FE;\n",
              "      border: none;\n",
              "      border-radius: 50%;\n",
              "      cursor: pointer;\n",
              "      display: none;\n",
              "      fill: #1967D2;\n",
              "      height: 32px;\n",
              "      padding: 0 0 0 0;\n",
              "      width: 32px;\n",
              "    }\n",
              "\n",
              "    .colab-df-convert:hover {\n",
              "      background-color: #E2EBFA;\n",
              "      box-shadow: 0px 1px 2px rgba(60, 64, 67, 0.3), 0px 1px 3px 1px rgba(60, 64, 67, 0.15);\n",
              "      fill: #174EA6;\n",
              "    }\n",
              "\n",
              "    [theme=dark] .colab-df-convert {\n",
              "      background-color: #3B4455;\n",
              "      fill: #D2E3FC;\n",
              "    }\n",
              "\n",
              "    [theme=dark] .colab-df-convert:hover {\n",
              "      background-color: #434B5C;\n",
              "      box-shadow: 0px 1px 3px 1px rgba(0, 0, 0, 0.15);\n",
              "      filter: drop-shadow(0px 1px 2px rgba(0, 0, 0, 0.3));\n",
              "      fill: #FFFFFF;\n",
              "    }\n",
              "  </style>\n",
              "\n",
              "      <script>\n",
              "        const buttonEl =\n",
              "          document.querySelector('#df-1775c365-6deb-4006-a218-8951482ead96 button.colab-df-convert');\n",
              "        buttonEl.style.display =\n",
              "          google.colab.kernel.accessAllowed ? 'block' : 'none';\n",
              "\n",
              "        async function convertToInteractive(key) {\n",
              "          const element = document.querySelector('#df-1775c365-6deb-4006-a218-8951482ead96');\n",
              "          const dataTable =\n",
              "            await google.colab.kernel.invokeFunction('convertToInteractive',\n",
              "                                                     [key], {});\n",
              "          if (!dataTable) return;\n",
              "\n",
              "          const docLinkHtml = 'Like what you see? Visit the ' +\n",
              "            '<a target=\"_blank\" href=https://colab.research.google.com/notebooks/data_table.ipynb>data table notebook</a>'\n",
              "            + ' to learn more about interactive tables.';\n",
              "          element.innerHTML = '';\n",
              "          dataTable['output_type'] = 'display_data';\n",
              "          await google.colab.output.renderOutput(dataTable, element);\n",
              "          const docLink = document.createElement('div');\n",
              "          docLink.innerHTML = docLinkHtml;\n",
              "          element.appendChild(docLink);\n",
              "        }\n",
              "      </script>\n",
              "    </div>\n",
              "  </div>\n",
              "  "
            ]
          },
          "metadata": {},
          "execution_count": 21
        }
      ]
    },
    {
      "cell_type": "code",
      "source": [
        "url = 'https://itunes.apple.com/search'\n",
        "\n",
        "params = {\n",
        "    'term': 'ойда',\n",
        "    'limit': 200,\n",
        "    'country': 'ru',\n",
        "    'entity': 'musicTrack'\n",
        "}\n",
        "\n",
        "res = requests.get(url, params=params)\n",
        "df = pd.DataFrame(res.json()['results'])"
      ],
      "metadata": {
        "id": "J2SQagWm0Q35"
      },
      "execution_count": null,
      "outputs": []
    },
    {
      "cell_type": "code",
      "source": [
        "df.to_excel('11.xlsx')"
      ],
      "metadata": {
        "id": "3n5V7YW1-qaj"
      },
      "execution_count": null,
      "outputs": []
    },
    {
      "cell_type": "code",
      "source": [
        "import requests\n"
      ],
      "metadata": {
        "id": "5zmQUv_E5edO"
      },
      "execution_count": null,
      "outputs": []
    },
    {
      "cell_type": "code",
      "source": [
        "pd.read_excel()"
      ],
      "metadata": {
        "id": "mahlNeOz5f_Y"
      },
      "execution_count": null,
      "outputs": []
    },
    {
      "cell_type": "markdown",
      "source": [
        "## List/Dict comprehension"
      ],
      "metadata": {
        "id": "Pe8kSMyDAT9k"
      }
    },
    {
      "cell_type": "code",
      "source": [
        "data = [\n",
        "    [13, 25, 23, 34],\n",
        "    [45, 32, 44, 47],\n",
        "    [12, 33, 23, 95],\n",
        "    [13, 53, 34, 35]\n",
        "]"
      ],
      "metadata": {
        "id": "0aQ5LdI3ALve"
      },
      "execution_count": null,
      "outputs": []
    },
    {
      "cell_type": "code",
      "source": [
        "result = 0\n",
        "index = 0\n",
        "for row in data:\n",
        "    result += row[index]\n",
        "    index += 1\n",
        "print(result)"
      ],
      "metadata": {
        "colab": {
          "base_uri": "https://localhost:8080/"
        },
        "id": "ujMOAgBUAVLS",
        "outputId": "61958f16-ea7d-4ea2-b538-7ea268a1bcc2"
      },
      "execution_count": null,
      "outputs": [
        {
          "output_type": "stream",
          "name": "stdout",
          "text": [
            "103\n"
          ]
        }
      ]
    },
    {
      "cell_type": "code",
      "source": [
        "list(enumerate(data))"
      ],
      "metadata": {
        "colab": {
          "base_uri": "https://localhost:8080/"
        },
        "id": "GKJhkFNkA53U",
        "outputId": "ffe15a81-4c5f-4ac0-8165-32604bb4aae3"
      },
      "execution_count": null,
      "outputs": [
        {
          "output_type": "execute_result",
          "data": {
            "text/plain": [
              "[(0, [13, 25, 23, 34]),\n",
              " (1, [45, 32, 44, 47]),\n",
              " (2, [12, 33, 23, 95]),\n",
              " (3, [13, 53, 34, 35])]"
            ]
          },
          "metadata": {},
          "execution_count": 38
        }
      ]
    },
    {
      "cell_type": "code",
      "source": [
        "result = []\n",
        "for index, row in enumerate(data):\n",
        "    result.append(row[index])\n",
        "print(result)"
      ],
      "metadata": {
        "colab": {
          "base_uri": "https://localhost:8080/"
        },
        "id": "nX4zMOBRBd2U",
        "outputId": "2d491bbc-9a4d-481d-cf96-0f10ce55c25d"
      },
      "execution_count": null,
      "outputs": [
        {
          "output_type": "stream",
          "name": "stdout",
          "text": [
            "[13, 32, 23, 35]\n"
          ]
        }
      ]
    },
    {
      "cell_type": "code",
      "source": [
        "print(sum([row[index] for index, row in enumerate(data)]))"
      ],
      "metadata": {
        "colab": {
          "base_uri": "https://localhost:8080/"
        },
        "id": "gs5lTkzzAcND",
        "outputId": "34cb1c87-8458-444d-f2fa-e95209cfe927"
      },
      "execution_count": null,
      "outputs": [
        {
          "output_type": "stream",
          "name": "stdout",
          "text": [
            "103\n"
          ]
        }
      ]
    },
    {
      "cell_type": "markdown",
      "source": [
        "Дан поток логов по количеству просмотренных страниц для каждого пользователя. Вам необходимо написать алгоритм, который считает среднее значение просмотров на пользователя. Т. е. надо посчитать отношение суммы всех просмотров к количеству уникальных пользователей."
      ],
      "metadata": {
        "id": "q_6Jx6a0UjBI"
      }
    },
    {
      "cell_type": "code",
      "source": [
        "stream = [\n",
        "\t'2018-01-01,user1,3',\n",
        "\t'2018-01-07,user1,4',\n",
        "\t'2018-03-29,user1,1',\n",
        "\t'2018-04-04,user1,13',\n",
        "\t'2018-01-05,user2,7',\n",
        "\t'2018-06-14,user3,4',\n",
        "\t'2018-07-02,user3,10',\n",
        "\t'2018-03-21,user4,19',\n",
        "\t'2018-03-22,user4,4',\n",
        "\t'2018-04-22,user4,8',\n",
        "\t'2018-05-03,user4,9',\n",
        "\t'2018-05-11,user4,11',\n",
        "]"
      ],
      "metadata": {
        "id": "wO140iuQApA2"
      },
      "execution_count": null,
      "outputs": []
    },
    {
      "cell_type": "code",
      "source": [
        "total_views = sum([int(el.split(',')[2]) for el in stream])\n",
        "uniq_users = len(set([el.split(',')[1] for el in stream]))\n",
        "print(total_views / uniq_users)"
      ],
      "metadata": {
        "colab": {
          "base_uri": "https://localhost:8080/"
        },
        "id": "3gg2pCiGCKXs",
        "outputId": "8f41e64c-0d54-49b5-d0e6-586acd377deb"
      },
      "execution_count": null,
      "outputs": [
        {
          "output_type": "stream",
          "name": "stdout",
          "text": [
            "23.25\n"
          ]
        }
      ]
    },
    {
      "cell_type": "code",
      "source": [
        "print(sum([int(el.split(',')[2]) for el in stream]) / len(set([el.split(',')[1] for el in stream])))"
      ],
      "metadata": {
        "colab": {
          "base_uri": "https://localhost:8080/"
        },
        "id": "YSmIf6x8ClUQ",
        "outputId": "b945a1e9-81a9-4bfa-d599-19940bf541b9"
      },
      "execution_count": null,
      "outputs": [
        {
          "output_type": "stream",
          "name": "stdout",
          "text": [
            "23.25\n"
          ]
        }
      ]
    },
    {
      "cell_type": "code",
      "source": [
        "geo_logs = [\n",
        "    {'visit1': ['Москва', 'Россия']},\n",
        "    {'visit2': ['Дели', 'Индия']},\n",
        "    {'visit3': ['Владимир', 'Россия']},\n",
        "    {'visit4': ['Лиссабон', 'Португалия']},\n",
        "    {'visit5': ['Париж', 'Франция']},\n",
        "    {'visit7': ['Тула', 'Россия']},\n",
        "    {'visit9': ['Курск', 'Россия']},\n",
        "    {'visit10': ['Архангельск', 'Россия']}\n",
        "]"
      ],
      "metadata": {
        "id": "4QwLnG_ODLRK"
      },
      "execution_count": null,
      "outputs": []
    },
    {
      "cell_type": "code",
      "source": [
        "print(list(filter(lambda log: 'Россия' in list(log.values())[0], geo_logs)))"
      ],
      "metadata": {
        "colab": {
          "base_uri": "https://localhost:8080/"
        },
        "id": "2DUzhihzDU9D",
        "outputId": "eeb8579c-4a8e-4f71-dcb3-d266e13333ce"
      },
      "execution_count": null,
      "outputs": [
        {
          "output_type": "stream",
          "name": "stdout",
          "text": [
            "[{'visit1': ['Москва', 'Россия']}, {'visit3': ['Владимир', 'Россия']}, {'visit7': ['Тула', 'Россия']}, {'visit9': ['Курск', 'Россия']}, {'visit10': ['Архангельск', 'Россия']}]\n"
          ]
        }
      ]
    },
    {
      "cell_type": "code",
      "source": [
        "some_list = ['2018-01-01', 'yandex', 'cpc', 100]\n",
        "# {'2018-01-01': {'yandex': {'cpc': 100}}}"
      ],
      "metadata": {
        "id": "SawVJ5JqES8n"
      },
      "execution_count": null,
      "outputs": []
    },
    {
      "cell_type": "code",
      "source": [
        "from functools import reduce\n",
        "\n",
        "reduce(lambda a, b: a*b, [1, 2, 3, 4, 5])"
      ],
      "metadata": {
        "colab": {
          "base_uri": "https://localhost:8080/"
        },
        "id": "UPhoD4ghFzzR",
        "outputId": "4a0b1fa7-6c23-44d4-d9a4-4d55a5c2dfbd"
      },
      "execution_count": null,
      "outputs": [
        {
          "output_type": "execute_result",
          "data": {
            "text/plain": [
              "120"
            ]
          },
          "metadata": {},
          "execution_count": 58
        }
      ]
    },
    {
      "cell_type": "code",
      "source": [
        "print(reduce(lambda k,v: {v: k}, reversed(some_list)))"
      ],
      "metadata": {
        "colab": {
          "base_uri": "https://localhost:8080/"
        },
        "id": "2EaEs_BlGO10",
        "outputId": "3ab0557d-91ab-48d8-adcb-708ec93aabf0"
      },
      "execution_count": null,
      "outputs": [
        {
          "output_type": "stream",
          "name": "stdout",
          "text": [
            "{'2018-01-01': {'yandex': {'cpc': 100}}}\n"
          ]
        }
      ]
    },
    {
      "cell_type": "markdown",
      "source": [
        "Задачка про супергероев"
      ],
      "metadata": {
        "id": "vkbovR44HZne"
      }
    },
    {
      "cell_type": "code",
      "source": [
        "url = 'https://akabab.github.io/superhero-api/api/all.json'\n",
        "\n",
        "res = requests.get(url)\n",
        "\n",
        "heroes = res.json()\n",
        "\n",
        "our_heroes = filter(lambda hero: hero['name'] in ['Hulk', 'Captain America', 'Thanos'], heroes)\n",
        "heroes_res = {hero['name']:hero['powerstats']['intelligence'] for hero in our_heroes}\n",
        "print(max(heroes_res, key=heroes_res.get))"
      ],
      "metadata": {
        "colab": {
          "base_uri": "https://localhost:8080/"
        },
        "id": "XuaToUvVHbNO",
        "outputId": "c1e52461-1462-4d2f-95d4-cf5cd018448d"
      },
      "execution_count": null,
      "outputs": [
        {
          "output_type": "stream",
          "name": "stdout",
          "text": [
            "Thanos\n"
          ]
        }
      ]
    }
  ]
}